{
 "cells": [
  {
   "cell_type": "code",
   "execution_count": 1,
   "source": [
    "import sys\n",
    "import os"
   ],
   "outputs": [],
   "metadata": {}
  },
  {
   "cell_type": "code",
   "execution_count": 2,
   "source": [
    "_mod_path: str = \"/Users/adebayobraimah/Desktop/projects/fmri_preproc\"\n",
    "sys.path.append(_mod_path)"
   ],
   "outputs": [],
   "metadata": {}
  },
  {
   "cell_type": "code",
   "execution_count": 3,
   "source": [
    "from fmri_preproc.utils.fileio import (File, NiiFile)"
   ],
   "outputs": [],
   "metadata": {}
  },
  {
   "cell_type": "code",
   "execution_count": 4,
   "source": [
    "# class File(IOBaseObj):\n",
    "#     __slots__ = ( \"src\",\n",
    "#                   \"ext\"\n",
    "#                 )\n",
    "#     def __init__(self, src: str) -> None:\n",
    "#         self.src: str = src\n",
    "#         self.ext: str = None\n",
    "#         super(File, self).__init__(src)\n",
    "\n",
    "#         if self.src.endswith('.gz'):\n",
    "#             self.ext: str = self.src[-7:]\n",
    "#         else:\n",
    "#             _, self.ext = os.path.splitext(self.src)\n",
    "    \n",
    "#     # def __enter__(self):\n",
    "#     #     \"\"\"Context manager entrance method.\"\"\"\n",
    "#     #     return super().__enter__()\n",
    "    \n",
    "#     # def __exit__(self, exc_type, exc_val, traceback):\n",
    "#     #     \"\"\"Context manager exit method.\"\"\"\n",
    "#     #     return super().__exit__(exc_type, exc_val, traceback)\n",
    "    \n",
    "#     # def __repr__(self):\n",
    "#     #     \"\"\"Representation request method.\"\"\"\n",
    "#     #     return super().__repr__()\n",
    "    \n",
    "#     def abspath(self,\n",
    "#                 follow_sym_links: bool = False\n",
    "#                ) -> str:\n",
    "#         \"\"\"Abstract class method.\n",
    "#         \"\"\"\n",
    "#         return super().abspath(follow_sym_links)\n",
    "    \n",
    "#     def sym_link(self, \n",
    "#                  dst: str, \n",
    "#                  relative: bool = False\n",
    "#                 ) -> str:\n",
    "#         \"\"\"Abstract class method.\n",
    "#         \"\"\"\n",
    "#         return super().sym_link(dst, relative)"
   ],
   "outputs": [],
   "metadata": {}
  },
  {
   "cell_type": "code",
   "execution_count": 5,
   "source": [
    "k = File(src=\"test.txt\")"
   ],
   "outputs": [],
   "metadata": {}
  },
  {
   "cell_type": "code",
   "execution_count": 6,
   "source": [
    "k.src"
   ],
   "outputs": [
    {
     "output_type": "execute_result",
     "data": {
      "text/plain": [
       "'test.txt'"
      ]
     },
     "metadata": {},
     "execution_count": 6
    }
   ],
   "metadata": {}
  },
  {
   "cell_type": "code",
   "execution_count": 8,
   "source": [
    "with File(src=\"test.txt\") as k:\n",
    "    print(k.src)\n",
    "    print(k.ext)\n",
    "    print(k.abspath())"
   ],
   "outputs": [
    {
     "output_type": "stream",
     "name": "stdout",
     "text": [
      "test.txt\n",
      ".txt\n",
      "/Users/adebayobraimah/Desktop/projects/fmri_preproc/fmri_preproc/utils/test.txt\n"
     ]
    }
   ],
   "metadata": {}
  },
  {
   "cell_type": "code",
   "execution_count": 9,
   "source": [
    "with File(src=\"test.1.file.txt\") as k:\n",
    "    new_file: str = k.sym_link(dst=\"../file2.txt\", relative=False)\n",
    "    print(os.path.exists(k.src))\n",
    "    print(os.path.exists(new_file))\n",
    "    print(new_file)"
   ],
   "outputs": [
    {
     "output_type": "stream",
     "name": "stdout",
     "text": [
      "True\n",
      "True\n",
      "/Users/adebayobraimah/Desktop/projects/fmri_preproc/fmri_preproc/file2.txt\n"
     ]
    }
   ],
   "metadata": {}
  },
  {
   "cell_type": "code",
   "execution_count": 12,
   "source": [
    "f = File(\"file.bval\")"
   ],
   "outputs": [],
   "metadata": {}
  },
  {
   "cell_type": "code",
   "execution_count": 13,
   "source": [
    "f.ext"
   ],
   "outputs": [
    {
     "output_type": "execute_result",
     "data": {
      "text/plain": [
       "'.bval'"
      ]
     },
     "metadata": {},
     "execution_count": 13
    }
   ],
   "metadata": {}
  },
  {
   "cell_type": "code",
   "execution_count": 7,
   "source": [
    "nii = \"/Users/adebayobraimah/Desktop/projects/fmri_preproc/data/sub-194/functional/sub-194/func/sub-194_task-rest_dir-PA_run-01_bold.nii.gz\""
   ],
   "outputs": [],
   "metadata": {}
  },
  {
   "cell_type": "code",
   "execution_count": 8,
   "source": [
    "f = NiiFile(src=nii, assert_exists=True, validate_nifti=True)"
   ],
   "outputs": [],
   "metadata": {}
  },
  {
   "cell_type": "code",
   "execution_count": 9,
   "source": [
    "f.src"
   ],
   "outputs": [
    {
     "output_type": "execute_result",
     "data": {
      "text/plain": [
       "'/Users/adebayobraimah/Desktop/projects/fmri_preproc/data/sub-194/functional/sub-194/func/sub-194_task-rest_dir-PA_run-01_bold.nii.gz'"
      ]
     },
     "metadata": {},
     "execution_count": 9
    }
   ],
   "metadata": {}
  },
  {
   "cell_type": "code",
   "execution_count": 10,
   "source": [
    "from fmri_preproc.utils.workdir import WorkDir"
   ],
   "outputs": [],
   "metadata": {}
  },
  {
   "cell_type": "code",
   "execution_count": 11,
   "source": [
    "d = WorkDir(\"work_dir\",True)"
   ],
   "outputs": [],
   "metadata": {}
  },
  {
   "cell_type": "code",
   "execution_count": 13,
   "source": [
    "d.mkdir()"
   ],
   "outputs": [],
   "metadata": {}
  },
  {
   "cell_type": "code",
   "execution_count": 14,
   "source": [
    "d.rmdir()"
   ],
   "outputs": [],
   "metadata": {}
  },
  {
   "cell_type": "code",
   "execution_count": 15,
   "source": [
    "def func(i,t, *args):\n",
    "    print(i)\n",
    "    print(t)\n",
    "    print(*args)"
   ],
   "outputs": [],
   "metadata": {}
  },
  {
   "cell_type": "code",
   "execution_count": 18,
   "source": [
    "func(\"l\",\"for\",i=5,t=4)"
   ],
   "outputs": [
    {
     "output_type": "error",
     "ename": "TypeError",
     "evalue": "func() got multiple values for argument 'i'",
     "traceback": [
      "\u001b[0;31m---------------------------------------------------------------------------\u001b[0m",
      "\u001b[0;31mTypeError\u001b[0m                                 Traceback (most recent call last)",
      "\u001b[0;32m<ipython-input-18-75d2e1b222c4>\u001b[0m in \u001b[0;36m<module>\u001b[0;34m\u001b[0m\n\u001b[0;32m----> 1\u001b[0;31m \u001b[0mfunc\u001b[0m\u001b[0;34m(\u001b[0m\u001b[0;34m\"l\"\u001b[0m\u001b[0;34m,\u001b[0m\u001b[0;34m\"for\"\u001b[0m\u001b[0;34m,\u001b[0m\u001b[0mi\u001b[0m\u001b[0;34m=\u001b[0m\u001b[0;36m5\u001b[0m\u001b[0;34m,\u001b[0m\u001b[0mt\u001b[0m\u001b[0;34m=\u001b[0m\u001b[0;36m4\u001b[0m\u001b[0;34m)\u001b[0m\u001b[0;34m\u001b[0m\u001b[0;34m\u001b[0m\u001b[0m\n\u001b[0m",
      "\u001b[0;31mTypeError\u001b[0m: func() got multiple values for argument 'i'"
     ]
    }
   ],
   "metadata": {}
  },
  {
   "cell_type": "code",
   "execution_count": 4,
   "source": [
    "from fmri_preproc.utils.tempdir import TmpDir"
   ],
   "outputs": [],
   "metadata": {}
  },
  {
   "cell_type": "code",
   "execution_count": 5,
   "source": [
    "f = TmpDir(\"TmpDir\")"
   ],
   "outputs": [],
   "metadata": {}
  },
  {
   "cell_type": "code",
   "execution_count": 6,
   "source": [
    "f.src"
   ],
   "outputs": [
    {
     "output_type": "execute_result",
     "data": {
      "text/plain": [
       "'TmpDir/tmp_dir_7165'"
      ]
     },
     "metadata": {},
     "execution_count": 6
    }
   ],
   "metadata": {}
  },
  {
   "cell_type": "code",
   "execution_count": 8,
   "source": [
    "f.TmpFile(f.src)"
   ],
   "outputs": [
    {
     "output_type": "execute_result",
     "data": {
      "text/plain": [
       "TmpDir/tmp_dir_7165/tmp_file_9732"
      ]
     },
     "metadata": {},
     "execution_count": 8
    }
   ],
   "metadata": {}
  },
  {
   "cell_type": "code",
   "execution_count": null,
   "source": [],
   "outputs": [],
   "metadata": {}
  }
 ],
 "metadata": {
  "kernelspec": {
   "name": "python3",
   "display_name": "Python 3.8.10 64-bit ('base': conda)"
  },
  "language_info": {
   "codemirror_mode": {
    "name": "ipython",
    "version": 3
   },
   "file_extension": ".py",
   "mimetype": "text/x-python",
   "name": "python",
   "nbconvert_exporter": "python",
   "pygments_lexer": "ipython3",
   "version": "3.8.10"
  },
  "interpreter": {
   "hash": "a0afd39b322e8f65b39096d63bb597abf283a7f58195bb577f9b5a76e499c911"
  }
 },
 "nbformat": 4,
 "nbformat_minor": 5
}