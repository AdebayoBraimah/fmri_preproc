{
 "cells": [
  {
   "cell_type": "code",
   "execution_count": 3,
   "source": [
    "import sys\n",
    "import os"
   ],
   "outputs": [],
   "metadata": {}
  },
  {
   "cell_type": "code",
   "execution_count": 4,
   "source": [
    "_mod_path: str = \"/Users/adebayobraimah/Desktop/projects/fmri_preproc\"\n",
    "sys.path.append(_mod_path)"
   ],
   "outputs": [],
   "metadata": {}
  },
  {
   "cell_type": "code",
   "execution_count": 5,
   "source": [
    "from fmri_preproc.utils.fileio import (File, NiiFile)"
   ],
   "outputs": [],
   "metadata": {}
  },
  {
   "cell_type": "code",
   "execution_count": 4,
   "source": [
    "# class File(IOBaseObj):\n",
    "#     __slots__ = ( \"src\",\n",
    "#                   \"ext\"\n",
    "#                 )\n",
    "#     def __init__(self, src: str) -> None:\n",
    "#         self.src: str = src\n",
    "#         self.ext: str = None\n",
    "#         super(File, self).__init__(src)\n",
    "\n",
    "#         if self.src.endswith('.gz'):\n",
    "#             self.ext: str = self.src[-7:]\n",
    "#         else:\n",
    "#             _, self.ext = os.path.splitext(self.src)\n",
    "    \n",
    "#     # def __enter__(self):\n",
    "#     #     \"\"\"Context manager entrance method.\"\"\"\n",
    "#     #     return super().__enter__()\n",
    "    \n",
    "#     # def __exit__(self, exc_type, exc_val, traceback):\n",
    "#     #     \"\"\"Context manager exit method.\"\"\"\n",
    "#     #     return super().__exit__(exc_type, exc_val, traceback)\n",
    "    \n",
    "#     # def __repr__(self):\n",
    "#     #     \"\"\"Representation request method.\"\"\"\n",
    "#     #     return super().__repr__()\n",
    "    \n",
    "#     def abspath(self,\n",
    "#                 follow_sym_links: bool = False\n",
    "#                ) -> str:\n",
    "#         \"\"\"Abstract class method.\n",
    "#         \"\"\"\n",
    "#         return super().abspath(follow_sym_links)\n",
    "    \n",
    "#     def sym_link(self, \n",
    "#                  dst: str, \n",
    "#                  relative: bool = False\n",
    "#                 ) -> str:\n",
    "#         \"\"\"Abstract class method.\n",
    "#         \"\"\"\n",
    "#         return super().sym_link(dst, relative)"
   ],
   "outputs": [],
   "metadata": {}
  },
  {
   "cell_type": "code",
   "execution_count": 6,
   "source": [
    "k = File(src=\"test.txt\")"
   ],
   "outputs": [],
   "metadata": {}
  },
  {
   "cell_type": "code",
   "execution_count": 7,
   "source": [
    "k.src"
   ],
   "outputs": [
    {
     "output_type": "execute_result",
     "data": {
      "text/plain": [
       "'test.txt'"
      ]
     },
     "metadata": {},
     "execution_count": 7
    }
   ],
   "metadata": {}
  },
  {
   "cell_type": "code",
   "execution_count": 8,
   "source": [
    "with File(src=\"test.txt\") as k:\n",
    "    print(k.src)\n",
    "    print(k.ext)\n",
    "    print(k.abspath())"
   ],
   "outputs": [
    {
     "output_type": "stream",
     "name": "stdout",
     "text": [
      "test.txt\n",
      ".txt\n",
      "/Users/adebayobraimah/Desktop/projects/fmri_preproc/fmri_preproc/utils/test.txt\n"
     ]
    }
   ],
   "metadata": {}
  },
  {
   "cell_type": "code",
   "execution_count": 9,
   "source": [
    "with File(src=\"test.1.file.txt\") as k:\n",
    "    new_file: str = k.sym_link(dst=\"../file2.txt\", relative=False)\n",
    "    print(os.path.exists(k.src))\n",
    "    print(os.path.exists(new_file))\n",
    "    print(new_file)"
   ],
   "outputs": [
    {
     "output_type": "stream",
     "name": "stdout",
     "text": [
      "True\n",
      "True\n",
      "/Users/adebayobraimah/Desktop/projects/fmri_preproc/fmri_preproc/file2.txt\n"
     ]
    }
   ],
   "metadata": {}
  },
  {
   "cell_type": "code",
   "execution_count": 12,
   "source": [
    "f = File(\"file.bval\")"
   ],
   "outputs": [],
   "metadata": {}
  },
  {
   "cell_type": "code",
   "execution_count": 13,
   "source": [
    "f.ext"
   ],
   "outputs": [
    {
     "output_type": "execute_result",
     "data": {
      "text/plain": [
       "'.bval'"
      ]
     },
     "metadata": {},
     "execution_count": 13
    }
   ],
   "metadata": {}
  },
  {
   "cell_type": "code",
   "execution_count": null,
   "source": [],
   "outputs": [],
   "metadata": {}
  }
 ],
 "metadata": {
  "kernelspec": {
   "name": "python3",
   "display_name": "Python 3.8.10 64-bit ('base': conda)"
  },
  "language_info": {
   "codemirror_mode": {
    "name": "ipython",
    "version": 3
   },
   "file_extension": ".py",
   "mimetype": "text/x-python",
   "name": "python",
   "nbconvert_exporter": "python",
   "pygments_lexer": "ipython3",
   "version": "3.8.10"
  },
  "interpreter": {
   "hash": "a0afd39b322e8f65b39096d63bb597abf283a7f58195bb577f9b5a76e499c911"
  }
 },
 "nbformat": 4,
 "nbformat_minor": 5
}