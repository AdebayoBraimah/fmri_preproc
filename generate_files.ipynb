{
 "cells": [
  {
   "cell_type": "code",
   "execution_count": 2,
   "metadata": {},
   "outputs": [],
   "source": [
    "import os\n",
    "import numpy as np\n",
    "\n",
    "from typing import (\n",
    "    List,\n",
    "    Tuple,\n",
    "    Optional,\n",
    "    Union\n",
    ")"
   ]
  },
  {
   "cell_type": "code",
   "execution_count": 23,
   "metadata": {},
   "outputs": [],
   "source": [
    "def generate_bvals(num_frames: int,\n",
    "                   out_file: str = 'file.bval'\n",
    "                  ) -> str:\n",
    "    \"\"\"Creates/generates an arbitrary number b=0 b-values for a fMRI acquisition\n",
    "    provided the number of dynamics/temporal frames.\n",
    "    \n",
    "    Usage example:\n",
    "        >>> bval_file = generate_bvals(num_frames=1200, out_file=\"fmri.bval\")\n",
    "        \n",
    "    Arguments:\n",
    "        num_frames: Number of temporal frames/dynamics.\n",
    "        out_file: Output file name.\n",
    "        \n",
    "    Returns:\n",
    "        Output file path as string that contains the corresponding b-values.\n",
    "    \n",
    "    Raises:\n",
    "        TypeError: Exception that is raised when the input for ``num_frames`` is not an ``int``.\n",
    "    \"\"\"\n",
    "    if type(num_frames) != int:\n",
    "        raise TypeError(f\"Input for num_frames: {num_frames} is not an integer.\")\n",
    "        \n",
    "    np.savetxt(out_file,\n",
    "               np.zeros((1,num_frames),\n",
    "                        dtype=np.int8,\n",
    "                        order='C'),\n",
    "               fmt='%i',\n",
    "               delimiter=' ',\n",
    "               encoding='utf-8')\n",
    "    out_file: str = os.path.abspath(out_file)\n",
    "    return out_file"
   ]
  },
  {
   "cell_type": "code",
   "execution_count": 25,
   "metadata": {},
   "outputs": [],
   "source": [
    "def generate_bvecs(num_frames: int,\n",
    "                   out_file: str = 'file.bvec'\n",
    "                  ) -> str:\n",
    "    \"\"\"Creates/generates an arbitrary number of x,y,z b-vectors for a fMRI acquisition\n",
    "    provided the number of dynamics/temporal frames.\n",
    "    \n",
    "    Usage example:\n",
    "        >>> bval_file = generate_bvecs(num_frames=1200, out_file=\"fmri.bvec\")\n",
    "        \n",
    "    Arguments:\n",
    "        num_frames: Number of temporal frames/dynamics.\n",
    "        out_file: Output file name.\n",
    "        \n",
    "    Returns:\n",
    "        Output file path as string that contains the corresponding b-vectors.\n",
    "    \n",
    "    Raises:\n",
    "        TypeError: Exception that is raised when the input for ``num_frames`` is not an ``int``.\n",
    "    \"\"\"\n",
    "    if type(num_frames) != int:\n",
    "        raise TypeError(f\"Input for num_frames: {num_frames} is not an integer.\")\n",
    "        \n",
    "    np.savetxt(out_file,\n",
    "               np.ones((1,num_frames),dtype=np.int8,order='C') * np.array([[1], [0], [0]]),\n",
    "               fmt='%i',\n",
    "               delimiter=' ',\n",
    "               encoding='utf-8')\n",
    "    out_file: str = os.path.abspath(out_file)\n",
    "    return out_file"
   ]
  },
  {
   "cell_type": "code",
   "execution_count": 26,
   "metadata": {},
   "outputs": [],
   "source": [
    "def generate_acq_params(num_frames: int,\n",
    "                        effective_echo_spacing: float = 0.05,\n",
    "                        out_prefix: str = 'file'\n",
    "                       ) -> Tuple[str,str]:\n",
    "    \"\"\"Creates acquisition parameters files for fMRI acquisition provided the number of frames and the \n",
    "    effective echo spacing.\n",
    "    \n",
    "    Usage example:\n",
    "        >>> dist_acqp, func_acqp = generate_acq_params(num_frames=1200, \n",
    "        ...                                            effective_echo_spacing=0.05,\n",
    "        ...                                            out_prefix=\"fmri\")\n",
    "        ...\n",
    "        \n",
    "    Arguments:\n",
    "        num_frames: Number of temporal frames/dynamics.\n",
    "        effective_echo_spacing: Effective echo spacing.\n",
    "        out_prefix: Output file prefix.\n",
    "        \n",
    "    Returns:\n",
    "        Tuple of strings that correspond to the acquisition parameter files (for both distortion correction and\n",
    "            eddy current correction).\n",
    "    \n",
    "    Raises:\n",
    "        TypeError: Exception that is raised when either ``num_frames`` is not an ``int`` OR when ``effective_echo_spacing`` is not a ``float``.\n",
    "    \"\"\"\n",
    "    if (type(num_frames) != int) or (type(effective_echo_spacing) != float):\n",
    "        raise TypeError(f\"Input for num_frames: {num_frames} is not an integer OR effective_echo_spacing: {effective_echo_spacing} is not a float.\")\n",
    "    \n",
    "    # Generate distortion correction\n",
    "    out_dist: str = out_prefix + \"_distortion_correction.acqp\"\n",
    "    out_func: str = out_prefix + \"_functional.acqp\"\n",
    "    \n",
    "    # Write distortion correction acqp file\n",
    "    with open(out_dist,'w') as f:\n",
    "        f.write(f\"0 1 0 {effective_echo_spacing}\\n\")\n",
    "        f.write(f\"0 -1 0 {effective_echo_spacing}\\n\")\n",
    "        f.close()\n",
    "    \n",
    "    # Write functinoal acqp file\n",
    "    with open(out_func,'w') as f:\n",
    "        for i in range(0,num_frames):\n",
    "            f.write(f\"0 1 0 {effective_echo_spacing}\\n\")\n",
    "        f.close()\n",
    "    \n",
    "    # Obtain absolute file paths\n",
    "    out_dist: str = os.path.abspath(out_dist)\n",
    "    out_func: str = os.path.abspath(out_func)\n",
    "    \n",
    "    return out_dist, out_func"
   ]
  },
  {
   "cell_type": "code",
   "execution_count": 27,
   "metadata": {},
   "outputs": [],
   "source": [
    "def generate_index(num_frames: int,\n",
    "                   out_file: str = 'file.idx'\n",
    "                  ) -> str:\n",
    "    \"\"\"Creates index files for use with FSL's ``eddy``.\n",
    "    \n",
    "    Usage example:\n",
    "        >>> func_idx = generate_index(num_frames=1200, out_file=\"fmri.idx\")\n",
    "        \n",
    "    Arguments:\n",
    "        num_frames: Number of temporal frames/dynamics.\n",
    "        out_file: Output file name.\n",
    "        \n",
    "    Returns:\n",
    "        Output file path as string that contains the corresponding frame indices.\n",
    "    \n",
    "    Raises:\n",
    "        TypeError: Exception that is raised when the input for ``num_frames`` is not an ``int``.\n",
    "    \"\"\"\n",
    "    if type(num_frames) != int:\n",
    "        raise TypeError(f\"Input for num_frames: {num_frames} is not an integer.\")\n",
    "    return np.savetxt(out_file, np.ones((1, num_frames)).T, fmt=\"%i\")"
   ]
  },
  {
   "cell_type": "code",
   "execution_count": 6,
   "metadata": {},
   "outputs": [
    {
     "data": {
      "text/plain": [
       "'file.bval'"
      ]
     },
     "execution_count": 6,
     "metadata": {},
     "output_type": "execute_result"
    }
   ],
   "source": [
    "generate_bvals(400)"
   ]
  },
  {
   "cell_type": "code",
   "execution_count": 7,
   "metadata": {},
   "outputs": [
    {
     "data": {
      "text/plain": [
       "'file.bvec'"
      ]
     },
     "execution_count": 7,
     "metadata": {},
     "output_type": "execute_result"
    }
   ],
   "source": [
    "generate_bvecs(400)"
   ]
  },
  {
   "cell_type": "code",
   "execution_count": 23,
   "metadata": {},
   "outputs": [],
   "source": [
    "generate_index(400)"
   ]
  },
  {
   "cell_type": "code",
   "execution_count": 28,
   "metadata": {},
   "outputs": [
    {
     "data": {
      "text/plain": [
       "('file_distortion_correction.acqp', 'file_functional.acqp')"
      ]
     },
     "execution_count": 28,
     "metadata": {},
     "output_type": "execute_result"
    }
   ],
   "source": [
    "generate_acq_params(0.05,400)"
   ]
  },
  {
   "cell_type": "code",
   "execution_count": null,
   "metadata": {},
   "outputs": [],
   "source": []
  },
  {
   "cell_type": "code",
   "execution_count": 215,
   "metadata": {},
   "outputs": [],
   "source": [
    "# slices = 45\n",
    "slices = 15"
   ]
  },
  {
   "cell_type": "code",
   "execution_count": 216,
   "metadata": {},
   "outputs": [],
   "source": [
    "# mb_factor = 9\n",
    "mb_factor = 3"
   ]
  },
  {
   "cell_type": "code",
   "execution_count": 217,
   "metadata": {},
   "outputs": [
    {
     "data": {
      "text/plain": [
       "5"
      ]
     },
     "execution_count": 217,
     "metadata": {},
     "output_type": "execute_result"
    }
   ],
   "source": [
    "locs = slices//mb_factor\n",
    "locs"
   ]
  },
  {
   "cell_type": "code",
   "execution_count": 218,
   "metadata": {},
   "outputs": [
    {
     "data": {
      "text/plain": [
       "2"
      ]
     },
     "execution_count": 218,
     "metadata": {},
     "output_type": "execute_result"
    }
   ],
   "source": [
    "step = int(np.round(np.sqrt(locs)))\n",
    "step\n",
    "# step = 1"
   ]
  },
  {
   "cell_type": "code",
   "execution_count": 219,
   "metadata": {
    "scrolled": false
   },
   "outputs": [
    {
     "data": {
      "text/plain": [
       "array([[ 0,  5, 10],\n",
       "       [ 2,  7, 12],\n",
       "       [ 4,  9, 14],\n",
       "       [ 1,  6, 11],\n",
       "       [ 3,  8, 13]])"
      ]
     },
     "execution_count": 219,
     "metadata": {},
     "output_type": "execute_result"
    }
   ],
   "source": [
    "# This works for interleaved data\n",
    "n = []\n",
    "for s in range(step):\n",
    "    for k in range(s, locs, step):\n",
    "        if mb_factor != 1:\n",
    "            a = [k + locs*j for j in range(mb_factor)]\n",
    "            n.append(a)\n",
    "        else:\n",
    "            a = k\n",
    "            n.append(a)\n",
    "n = np.array(n)\n",
    "# n = np.transpose(n)\n",
    "n"
   ]
  },
  {
   "cell_type": "code",
   "execution_count": 132,
   "metadata": {},
   "outputs": [],
   "source": [
    "slices = 45\n",
    "mb_factor = 9"
   ]
  },
  {
   "cell_type": "code",
   "execution_count": 133,
   "metadata": {},
   "outputs": [
    {
     "data": {
      "text/plain": [
       "5"
      ]
     },
     "execution_count": 133,
     "metadata": {},
     "output_type": "execute_result"
    }
   ],
   "source": [
    "locs = slices//mb_factor\n",
    "locs"
   ]
  },
  {
   "cell_type": "code",
   "execution_count": 139,
   "metadata": {},
   "outputs": [],
   "source": [
    "# step = int(np.round(np.sqrt(locs)))\n",
    "# step\n",
    "step = 1"
   ]
  },
  {
   "cell_type": "code",
   "execution_count": 140,
   "metadata": {},
   "outputs": [
    {
     "data": {
      "text/plain": [
       "array([[ 0,  5, 10, 15, 20, 25, 30, 35, 40],\n",
       "       [ 1,  6, 11, 16, 21, 26, 31, 36, 41],\n",
       "       [ 2,  7, 12, 17, 22, 27, 32, 37, 42],\n",
       "       [ 3,  8, 13, 18, 23, 28, 33, 38, 43],\n",
       "       [ 4,  9, 14, 19, 24, 29, 34, 39, 44]])"
      ]
     },
     "execution_count": 140,
     "metadata": {},
     "output_type": "execute_result"
    }
   ],
   "source": [
    "# This single shot data\n",
    "n = []\n",
    "for s in range(step):\n",
    "    # print(s)\n",
    "    for k in range(locs):\n",
    "        # print(k)\n",
    "        if mb_factor != 1:\n",
    "            a = [k + locs*n for n in range(mb_factor)]\n",
    "            n.append(a)\n",
    "        else:\n",
    "            a = k\n",
    "            n.append(a)\n",
    "    n = np.array(n)\n",
    "# n = np.transpose(n)\n",
    "n"
   ]
  },
  {
   "cell_type": "code",
   "execution_count": null,
   "metadata": {},
   "outputs": [],
   "source": []
  },
  {
   "cell_type": "code",
   "execution_count": 20,
   "metadata": {},
   "outputs": [],
   "source": [
    "def generate_slice_order(slices: int,\n",
    "                         mb_factor: int = 1,\n",
    "                         mode: str = 'interleaved',\n",
    "                         out_file: str = 'file.slice.order',\n",
    "                         return_mat: Optional[bool] = False\n",
    "                        ) -> Union[str,np.array]:\n",
    "    \"\"\"Generates the slice acquisition order file for use with ``eddy's`` slice-to-volume motion correction method.\n",
    "    \n",
    "    The file generated consists of an (N/m) x m matrix | N = number of slices in the acquisition direction (assumed to be\n",
    "    the z-direction), and m = multi-band factor.\n",
    "    \n",
    "    NOTE:\n",
    "        Links for details:\n",
    "            * Documentation: https://fsl.fmrib.ox.ac.uk/fsl/fslwiki/eddy/UsersGuide#A--slspec\n",
    "            * Implementation: https://git.fmrib.ox.ac.uk/seanf/dhcp-neonatal-fmri-pipeline/-/blob/master/dhcp/resources/default_func.slorder\n",
    "            * Implementation: https://git.fmrib.ox.ac.uk/matteob/dHCP_neo_dMRI_pipeline_release/-/blob/master/slorder.txt\n",
    "    \n",
    "    Usage example:\n",
    "        >>> sls_order = generate_slice_order(slices=44,\n",
    "        ...                                  mb_factor=6,\n",
    "        ...                                  mode='single-shot',\n",
    "        ...                                  out_file='file.slice.order',\n",
    "        ...                                  return_mat=False)\n",
    "        ...\n",
    "        \n",
    "    Arguments:\n",
    "        slices: Number of slices in the acquisition direction.\n",
    "        mb_factor: Multi-band factor.\n",
    "        mode: Acquisition algorithm/method/scheme used to acquire the data. Valid options include:\n",
    "            * ``interleaved``: Optimal slice acquisition technique in which non-adjacent slices are acquired (best for diffusion MR images).\n",
    "            * ``single-shot``: Slice acquisition in which slices are acquired sequentially with an ascending slice order (best for functional MR images).\n",
    "            * ``default``: Default acquisition order in which slices are acquired with an ascending slice order.\n",
    "        out_file: Output file name.\n",
    "        return_mat: Return a numpy multi-dimensional array (matrix) rather than a file.\n",
    "        \n",
    "    Returns:\n",
    "        Output file path as string that contains the slice acquisition order OR a numpy multi-dimensional array if specified.\n",
    "    \n",
    "    Raises:\n",
    "        TypeError: Exception that is raised in the case that either ``slices`` or ``mb_factor`` is not an ``int``.\n",
    "        ValueError: Exception that is raised in the case that neither ``interleaved``, ``single-shot``, or ``default`` is passed as an argument for ``mode``.\n",
    "    \"\"\"\n",
    "    # Check input types\n",
    "    if (type(slices) != int) or (type(mb_factor) != int):\n",
    "        raise TypeError(f\"Input option slices: {slices} or mb_factor: {mb_factor} is not an integer.\")\n",
    "    \n",
    "    # Locations (in the slices) divided by Multi-Band Factor\n",
    "    locs: int = slices//mb_factor\n",
    "    \n",
    "    if mode == 'interleaved':\n",
    "        step: int = int(np.round(np.sqrt(locs)))\n",
    "    elif mode == 'default':\n",
    "        step: int = 2\n",
    "    elif mode == 'single-shot':\n",
    "        step: int = 1\n",
    "    else:\n",
    "        raise ValueError(f\"Option specified for mode: {mode} does not exist.\")\n",
    "    \n",
    "    # Iterate through each MB acquisition to get slice ordering\n",
    "    n: List[int] = []\n",
    "    \n",
    "    for s in range(step):\n",
    "        for k in range(s, locs, step):\n",
    "            if mb_factor != 1:\n",
    "                a: List[int] = [ k + locs*j for j in range(mb_factor) ]\n",
    "                n.append(a)\n",
    "            else:\n",
    "                a: int = k\n",
    "                n.append(a)\n",
    "    \n",
    "    if return_mat:\n",
    "        return np.array(n)\n",
    "    \n",
    "    slice_order: np.arrary = np.array(n)\n",
    "    np.savetxt(out_file,\n",
    "               slice_order, \n",
    "               fmt=\"%i\")\n",
    "    return out_file"
   ]
  },
  {
   "cell_type": "code",
   "execution_count": null,
   "metadata": {},
   "outputs": [],
   "source": []
  },
  {
   "cell_type": "code",
   "execution_count": 4,
   "metadata": {},
   "outputs": [],
   "source": [
    "k = 5"
   ]
  },
  {
   "cell_type": "code",
   "execution_count": 5,
   "metadata": {},
   "outputs": [
    {
     "data": {
      "text/plain": [
       "int"
      ]
     },
     "execution_count": 5,
     "metadata": {},
     "output_type": "execute_result"
    }
   ],
   "source": [
    "type(k).as_integer_ratio()"
   ]
  },
  {
   "cell_type": "code",
   "execution_count": 10,
   "metadata": {},
   "outputs": [
    {
     "data": {
      "text/plain": [
       "(100, 1)"
      ]
     },
     "execution_count": 10,
     "metadata": {},
     "output_type": "execute_result"
    }
   ],
   "source": []
  },
  {
   "cell_type": "code",
   "execution_count": null,
   "metadata": {},
   "outputs": [],
   "source": []
  },
  {
   "cell_type": "code",
   "execution_count": null,
   "metadata": {},
   "outputs": [],
   "source": []
  },
  {
   "cell_type": "code",
   "execution_count": null,
   "metadata": {},
   "outputs": [],
   "source": []
  },
  {
   "cell_type": "code",
   "execution_count": 35,
   "metadata": {},
   "outputs": [
    {
     "data": {
      "text/plain": [
       "array([[0],\n",
       "       [1],\n",
       "       [2],\n",
       "       [3],\n",
       "       [4]])"
      ]
     },
     "execution_count": 35,
     "metadata": {},
     "output_type": "execute_result"
    }
   ],
   "source": [
    "n = np.array([[0,1,2,3,4]]).T\n",
    "# n = np.transpose(n).T\n",
    "n"
   ]
  },
  {
   "cell_type": "code",
   "execution_count": 36,
   "metadata": {},
   "outputs": [
    {
     "data": {
      "text/plain": [
       "(5, 1)"
      ]
     },
     "execution_count": 36,
     "metadata": {},
     "output_type": "execute_result"
    }
   ],
   "source": [
    "n.shape"
   ]
  },
  {
   "cell_type": "code",
   "execution_count": null,
   "metadata": {},
   "outputs": [],
   "source": []
  },
  {
   "cell_type": "code",
   "execution_count": 35,
   "metadata": {},
   "outputs": [],
   "source": [
    "mb_factor = 4"
   ]
  },
  {
   "cell_type": "code",
   "execution_count": 36,
   "metadata": {},
   "outputs": [],
   "source": [
    "slices = 44"
   ]
  },
  {
   "cell_type": "code",
   "execution_count": null,
   "metadata": {},
   "outputs": [],
   "source": []
  },
  {
   "cell_type": "code",
   "execution_count": 47,
   "metadata": {},
   "outputs": [
    {
     "data": {
      "text/plain": [
       "[array([[ 0,  4,  8, 12, 16, 20, 24, 28, 32, 36, 40]]),\n",
       " array([[ 1,  5,  9, 13, 17, 21, 25, 29, 33, 37, 41]]),\n",
       " array([[ 2,  6, 10, 14, 18, 22, 26, 30, 34, 38, 42]]),\n",
       " array([[ 3,  7, 11, 15, 19, 23, 27, 31, 35, 39, 43]])]"
      ]
     },
     "execution_count": 47,
     "metadata": {},
     "output_type": "execute_result"
    }
   ],
   "source": [
    "a = []\n",
    "for i in range(0,mb_factor):\n",
    "    # print(i)\n",
    "    n = []\n",
    "    for j in range(i,slices,mb_factor):\n",
    "        n.append(j)\n",
    "    n = np.array([n])\n",
    "    a.append(n)\n",
    "# a = tuple(a)\n",
    "# a = np.concatenate(a)\n",
    "a"
   ]
  },
  {
   "cell_type": "code",
   "execution_count": null,
   "metadata": {},
   "outputs": [],
   "source": [
    "for i in range(0,)"
   ]
  },
  {
   "cell_type": "code",
   "execution_count": null,
   "metadata": {},
   "outputs": [],
   "source": []
  },
  {
   "cell_type": "code",
   "execution_count": null,
   "metadata": {},
   "outputs": [],
   "source": []
  },
  {
   "cell_type": "code",
   "execution_count": null,
   "metadata": {},
   "outputs": [],
   "source": []
  },
  {
   "cell_type": "code",
   "execution_count": null,
   "metadata": {},
   "outputs": [],
   "source": []
  },
  {
   "cell_type": "code",
   "execution_count": null,
   "metadata": {},
   "outputs": [],
   "source": []
  },
  {
   "cell_type": "code",
   "execution_count": null,
   "metadata": {},
   "outputs": [],
   "source": []
  },
  {
   "cell_type": "code",
   "execution_count": 45,
   "metadata": {},
   "outputs": [],
   "source": [
    "# Looks cool - but was the incorrect method - this always assumed that the MB factor was 9.\n",
    "# \n",
    "# \n",
    "# def generate_slice_order(slices: int,\n",
    "#                          mb_factor: int = 1,\n",
    "#                          out_file: str = 'file.slice.order',\n",
    "#                          return_mat: Optional[bool] = False\n",
    "#                         ) -> Union[str,np.array]:\n",
    "#     \"\"\"working doc-string\n",
    "    \n",
    "#     link for details: https://git.fmrib.ox.ac.uk/seanf/dhcp-neonatal-fmri-pipeline/-/blob/master/dhcp/resources/default_func.slorder\n",
    "#     \"\"\"\n",
    "#     try:\n",
    "#         slice_order: List[int] = []\n",
    "#         for i in range(0,mb_factor):\n",
    "#             n: List[int] = []\n",
    "#             for j in range(i,slices+1,mb_factor):\n",
    "#                 n.append(j)\n",
    "#             n: np.array = np.array([n])\n",
    "#             slice_order.append(n)\n",
    "        \n",
    "#         if return_mat:\n",
    "#             return np.concatenate(slice_order)\n",
    "        \n",
    "#         slice_order: np.arrary = np.concatenate(slice_order)\n",
    "#         np.savetxt(out_file,\n",
    "#                    slice_order, \n",
    "#                    fmt=\"%i\")\n",
    "#         return out_file\n",
    "#     except ValueError:\n",
    "#         return generate_slice_order(slices=slices-1,\n",
    "#                                     mb_factor=mb_factor,\n",
    "#                                     return_mat=return_mat)"
   ]
  },
  {
   "cell_type": "code",
   "execution_count": 35,
   "metadata": {},
   "outputs": [
    {
     "data": {
      "text/plain": [
       "array([[ 0,  5, 10, 15, 20, 25, 30, 35, 40],\n",
       "       [ 1,  6, 11, 16, 21, 26, 31, 36, 41],\n",
       "       [ 2,  7, 12, 17, 22, 27, 32, 37, 42],\n",
       "       [ 3,  8, 13, 18, 23, 28, 33, 38, 43],\n",
       "       [ 4,  9, 14, 19, 24, 29, 34, 39, 44]])"
      ]
     },
     "execution_count": 35,
     "metadata": {},
     "output_type": "execute_result"
    }
   ],
   "source": [
    "slice_order_mat: np.array = generate_slice_order(slices=45,mb_factor=9,mode='single-shot',return_mat=True)\n",
    "slice_order_mat"
   ]
  },
  {
   "cell_type": "code",
   "execution_count": 36,
   "metadata": {},
   "outputs": [
    {
     "data": {
      "text/plain": [
       "4"
      ]
     },
     "execution_count": 36,
     "metadata": {},
     "output_type": "execute_result"
    }
   ],
   "source": [
    "# Define the mp_order (Movement parameter order)\n",
    "mp_order: int = slice_order_mat.shape[0]-1\n",
    "mp_order"
   ]
  },
  {
   "cell_type": "code",
   "execution_count": 2,
   "metadata": {},
   "outputs": [],
   "source": [
    "import numpy as np\n",
    "import nibabel as nib"
   ]
  },
  {
   "cell_type": "code",
   "execution_count": 3,
   "metadata": {},
   "outputs": [],
   "source": [
    "nii_file = \"b0s.nii.gz\""
   ]
  },
  {
   "cell_type": "code",
   "execution_count": 4,
   "metadata": {},
   "outputs": [],
   "source": [
    "img = nib.load(nii_file)"
   ]
  },
  {
   "cell_type": "code",
   "execution_count": 10,
   "metadata": {},
   "outputs": [
    {
     "data": {
      "text/plain": [
       "45"
      ]
     },
     "execution_count": 10,
     "metadata": {},
     "output_type": "execute_result"
    }
   ],
   "source": [
    "img.header['dim'][3]"
   ]
  },
  {
   "cell_type": "code",
   "execution_count": 11,
   "metadata": {},
   "outputs": [
    {
     "data": {
      "text/plain": [
       "0"
      ]
     },
     "execution_count": 11,
     "metadata": {},
     "output_type": "execute_result"
    }
   ],
   "source": [
    "2%2"
   ]
  },
  {
   "cell_type": "code",
   "execution_count": 12,
   "metadata": {},
   "outputs": [],
   "source": [
    "def _is_even(num: int) -> bool:\n",
    "    \"\"\"working doc-string\n",
    "    \"\"\"\n",
    "    if (num%2 == 0):\n",
    "        return True\n",
    "    else:\n",
    "        return False"
   ]
  },
  {
   "cell_type": "code",
   "execution_count": 14,
   "metadata": {},
   "outputs": [
    {
     "data": {
      "text/plain": [
       "True"
      ]
     },
     "execution_count": 14,
     "metadata": {},
     "output_type": "execute_result"
    }
   ],
   "source": [
    "_is_even(44)"
   ]
  },
  {
   "cell_type": "markdown",
   "metadata": {},
   "source": [
    "# Test ``utils`` implementation details"
   ]
  },
  {
   "cell_type": "code",
   "execution_count": 1,
   "metadata": {},
   "outputs": [],
   "source": [
    "import utils"
   ]
  },
  {
   "cell_type": "code",
   "execution_count": 2,
   "metadata": {},
   "outputs": [],
   "source": [
    "f = utils.NiiFile('file.test.nii.gz')"
   ]
  },
  {
   "cell_type": "code",
   "execution_count": 3,
   "metadata": {},
   "outputs": [
    {
     "data": {
      "text/plain": [
       "file.test.nii.gz"
      ]
     },
     "execution_count": 3,
     "metadata": {},
     "output_type": "execute_result"
    }
   ],
   "source": [
    "f"
   ]
  },
  {
   "cell_type": "code",
   "execution_count": 4,
   "metadata": {},
   "outputs": [
    {
     "data": {
      "text/plain": [
       "'.nii.gz'"
      ]
     },
     "execution_count": 4,
     "metadata": {},
     "output_type": "execute_result"
    }
   ],
   "source": [
    "f.ext"
   ]
  },
  {
   "cell_type": "code",
   "execution_count": null,
   "metadata": {},
   "outputs": [],
   "source": []
  }
 ],
 "metadata": {
  "interpreter": {
   "hash": "a0afd39b322e8f65b39096d63bb597abf283a7f58195bb577f9b5a76e499c911"
  },
  "kernelspec": {
   "display_name": "Python 3.8.10 64-bit ('base': conda)",
   "name": "python3"
  },
  "language_info": {
   "codemirror_mode": {
    "name": "ipython",
    "version": 3
   },
   "file_extension": ".py",
   "mimetype": "text/x-python",
   "name": "python",
   "nbconvert_exporter": "python",
   "pygments_lexer": "ipython3",
   "version": "3.8.10"
  }
 },
 "nbformat": 4,
 "nbformat_minor": 2
}