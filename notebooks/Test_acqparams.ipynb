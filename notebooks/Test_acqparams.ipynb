{
 "cells": [
  {
   "cell_type": "code",
   "execution_count": 20,
   "metadata": {},
   "outputs": [],
   "source": [
    "import os\n",
    "import sys"
   ]
  },
  {
   "cell_type": "code",
   "execution_count": 2,
   "metadata": {},
   "outputs": [],
   "source": [
    "_pkg_dir: str = \"/Users/adebayobraimah/Desktop/projects/fmri_preproc\""
   ]
  },
  {
   "cell_type": "code",
   "execution_count": 3,
   "metadata": {},
   "outputs": [],
   "source": [
    "sys.path.append(_pkg_dir)"
   ]
  },
  {
   "cell_type": "code",
   "execution_count": 4,
   "metadata": {},
   "outputs": [],
   "source": [
    "from fmri_preproc.utils import acqparam"
   ]
  },
  {
   "cell_type": "code",
   "execution_count": 45,
   "metadata": {},
   "outputs": [],
   "source": [
    "epi: str = \"/Users/adebayobraimah/Desktop/projects/fmri_preproc/data/sub-194/functional/sub-194/func/sub-194_task-rest_dir-PA_run-01_bold.nii.gz\""
   ]
  },
  {
   "cell_type": "code",
   "execution_count": 6,
   "metadata": {},
   "outputs": [
    {
     "data": {
      "text/plain": [
       "('y', 1, 1)"
      ]
     },
     "execution_count": 6,
     "metadata": {},
     "output_type": "execute_result"
    }
   ],
   "source": [
    "acqparam._get_axis(epi,\"PA\")"
   ]
  },
  {
   "cell_type": "code",
   "execution_count": 7,
   "metadata": {},
   "outputs": [],
   "source": [
    "pe = \"PA,AP\""
   ]
  },
  {
   "cell_type": "code",
   "execution_count": 8,
   "metadata": {},
   "outputs": [],
   "source": [
    "pe = pe.split(\",\")"
   ]
  },
  {
   "cell_type": "code",
   "execution_count": 9,
   "metadata": {},
   "outputs": [],
   "source": [
    "import numpy as np"
   ]
  },
  {
   "cell_type": "code",
   "execution_count": 10,
   "metadata": {},
   "outputs": [
    {
     "data": {
      "text/plain": [
       "array([[0., 0., 0., 0.],\n",
       "       [0., 0., 0., 0.]])"
      ]
     },
     "execution_count": 10,
     "metadata": {},
     "output_type": "execute_result"
    }
   ],
   "source": [
    "np.zeros((len(pe), 4))"
   ]
  },
  {
   "cell_type": "code",
   "execution_count": 11,
   "metadata": {},
   "outputs": [
    {
     "data": {
      "text/plain": [
       "['', '']"
      ]
     },
     "execution_count": 11,
     "metadata": {},
     "output_type": "execute_result"
    }
   ],
   "source": [
    "[''] * len(pe)"
   ]
  },
  {
   "cell_type": "code",
   "execution_count": 12,
   "metadata": {},
   "outputs": [
    {
     "data": {
      "text/plain": [
       "5.0"
      ]
     },
     "execution_count": 12,
     "metadata": {},
     "output_type": "execute_result"
    }
   ],
   "source": [
    "float('5.0000')"
   ]
  },
  {
   "cell_type": "code",
   "execution_count": 13,
   "metadata": {},
   "outputs": [],
   "source": [
    "pedict = acqparam.phase_encode_dict()"
   ]
  },
  {
   "cell_type": "code",
   "execution_count": 14,
   "metadata": {},
   "outputs": [
    {
     "data": {
      "text/plain": [
       "{'x': (1, 'x'),\n",
       " 'y': (2, 'y'),\n",
       " 'z': (3, 'z'),\n",
       " '-x': (-1, 'x-'),\n",
       " '-y': (-2, 'y-'),\n",
       " '-z': (-3, 'z-'),\n",
       " 'x-': (-1, 'x-'),\n",
       " 'y-': (-2, 'y-'),\n",
       " 'z-': (-3, 'z-')}"
      ]
     },
     "execution_count": 14,
     "metadata": {},
     "output_type": "execute_result"
    }
   ],
   "source": [
    "pedict"
   ]
  },
  {
   "cell_type": "code",
   "execution_count": 15,
   "metadata": {},
   "outputs": [
    {
     "data": {
      "text/plain": [
       "'y'"
      ]
     },
     "execution_count": 15,
     "metadata": {},
     "output_type": "execute_result"
    }
   ],
   "source": [
    "acqparam._get_axis(epi,\"PA\")[0]"
   ]
  },
  {
   "cell_type": "code",
   "execution_count": 20,
   "metadata": {},
   "outputs": [
    {
     "data": {
      "text/plain": [
       "(2, 'y')"
      ]
     },
     "execution_count": 20,
     "metadata": {},
     "output_type": "execute_result"
    }
   ],
   "source": [
    "pedict['y']"
   ]
  },
  {
   "cell_type": "code",
   "execution_count": 38,
   "metadata": {},
   "outputs": [],
   "source": [
    "def func(s,e,f,j):\n",
    "    print(s,e,f,j)\n",
    "    return s,e,f,j\n",
    "# def func(**kwargs):\n",
    "#     print(kwargs)\n",
    "#     return kwargs"
   ]
  },
  {
   "cell_type": "code",
   "execution_count": 39,
   "metadata": {},
   "outputs": [],
   "source": [
    "d = {\"s\": 'start',\n",
    "     \"e\": 'end',\n",
    "     \"f\": 'finish'}"
   ]
  },
  {
   "cell_type": "code",
   "execution_count": 41,
   "metadata": {},
   "outputs": [
    {
     "name": "stdout",
     "output_type": "stream",
     "text": [
      "start end finish 5\n"
     ]
    },
    {
     "data": {
      "text/plain": [
       "('start', 'end', 'finish', '5')"
      ]
     },
     "execution_count": 41,
     "metadata": {},
     "output_type": "execute_result"
    }
   ],
   "source": [
    "func(**d,j='5')"
   ]
  },
  {
   "cell_type": "code",
   "execution_count": 26,
   "metadata": {},
   "outputs": [
    {
     "data": {
      "text/plain": [
       "{'s': 'start', 'e': 'end', 'f': 'finish'}"
      ]
     },
     "execution_count": 26,
     "metadata": {},
     "output_type": "execute_result"
    }
   ],
   "source": []
  },
  {
   "cell_type": "code",
   "execution_count": 33,
   "metadata": {},
   "outputs": [],
   "source": [
    "def func(src: str):\n",
    "    print(src)"
   ]
  },
  {
   "cell_type": "code",
   "execution_count": 34,
   "metadata": {},
   "outputs": [],
   "source": [
    "d = {\"src\": \"f\"}"
   ]
  },
  {
   "cell_type": "code",
   "execution_count": 35,
   "metadata": {},
   "outputs": [
    {
     "name": "stdout",
     "output_type": "stream",
     "text": [
      "f\n"
     ]
    }
   ],
   "source": [
    "func(**d)"
   ]
  },
  {
   "cell_type": "code",
   "execution_count": 42,
   "metadata": {},
   "outputs": [],
   "source": [
    "import nibabel as nib"
   ]
  },
  {
   "cell_type": "code",
   "execution_count": 59,
   "metadata": {},
   "outputs": [],
   "source": [
    "epi: nib.Nifti1Image = nib.load(epi) # .header.get('dim','')[3]"
   ]
  },
  {
   "cell_type": "code",
   "execution_count": 47,
   "metadata": {},
   "outputs": [
    {
     "data": {
      "text/plain": [
       "400"
      ]
     },
     "execution_count": 47,
     "metadata": {},
     "output_type": "execute_result"
    }
   ],
   "source": [
    "nib.load(epi).header.get('dim','')[4]"
   ]
  },
  {
   "cell_type": "code",
   "execution_count": 48,
   "metadata": {},
   "outputs": [],
   "source": [
    "from fmri_preproc.utils.acqparam import _get_axis, _get_orientation"
   ]
  },
  {
   "cell_type": "code",
   "execution_count": 53,
   "metadata": {},
   "outputs": [],
   "source": []
  },
  {
   "cell_type": "code",
   "execution_count": 55,
   "metadata": {},
   "outputs": [],
   "source": [
    "(ax, axidx, axdir) = _get_axis(epi,'PA')"
   ]
  },
  {
   "cell_type": "code",
   "execution_count": 56,
   "metadata": {},
   "outputs": [
    {
     "data": {
      "text/plain": [
       "1"
      ]
     },
     "execution_count": 56,
     "metadata": {},
     "output_type": "execute_result"
    }
   ],
   "source": [
    "axdir"
   ]
  },
  {
   "cell_type": "code",
   "execution_count": 57,
   "metadata": {},
   "outputs": [
    {
     "data": {
      "text/plain": [
       "1"
      ]
     },
     "execution_count": 57,
     "metadata": {},
     "output_type": "execute_result"
    }
   ],
   "source": [
    "axidx"
   ]
  },
  {
   "cell_type": "code",
   "execution_count": 60,
   "metadata": {},
   "outputs": [
    {
     "data": {
      "text/plain": [
       "64"
      ]
     },
     "execution_count": 60,
     "metadata": {},
     "output_type": "execute_result"
    }
   ],
   "source": [
    "epi.shape[axidx]"
   ]
  },
  {
   "cell_type": "code",
   "execution_count": 64,
   "metadata": {},
   "outputs": [],
   "source": [
    "epif = epi.shape[axidx]\n",
    "echospacing = 0.1\n",
    "inplane_acc = 1.0"
   ]
  },
  {
   "cell_type": "code",
   "execution_count": 65,
   "metadata": {},
   "outputs": [
    {
     "data": {
      "text/plain": [
       "6.300000000000001"
      ]
     },
     "execution_count": 65,
     "metadata": {},
     "output_type": "execute_result"
    }
   ],
   "source": [
    "(epif - 1) * echospacing / inplane_acc"
   ]
  },
  {
   "cell_type": "code",
   "execution_count": 1,
   "metadata": {},
   "outputs": [],
   "source": [
    "import sys\n",
    "_pkg_dir: str = \"/Users/adebayobraimah/Desktop/projects/fmri_preproc\"\n",
    "sys.path.append(_pkg_dir)\n",
    "from fmri_preproc.utils.logutil import LogFile"
   ]
  },
  {
   "cell_type": "code",
   "execution_count": 2,
   "metadata": {},
   "outputs": [],
   "source": [
    "j = LogFile(\"test.log\",print_to_screen=False)"
   ]
  },
  {
   "cell_type": "code",
   "execution_count": 3,
   "metadata": {},
   "outputs": [],
   "source": [
    "j.info(\"Test\")\n",
    "j.info(\"Test\",use_header=True)"
   ]
  },
  {
   "cell_type": "code",
   "execution_count": 4,
   "metadata": {},
   "outputs": [],
   "source": [
    "j.info(\"Test\")"
   ]
  },
  {
   "cell_type": "code",
   "execution_count": 28,
   "metadata": {},
   "outputs": [],
   "source": [
    "T = 3\n",
    "wfs = 19\n",
    "wfsHz = T * 3.35 * 42.576\n",
    "# wfsHz = 435"
   ]
  },
  {
   "cell_type": "code",
   "execution_count": 48,
   "metadata": {},
   "outputs": [
    {
     "data": {
      "text/plain": [
       "0.1"
      ]
     },
     "execution_count": 48,
     "metadata": {},
     "output_type": "execute_result"
    }
   ],
   "source": [
    "# echospacing = 1000 * (wfs/wfsHz)\n",
    "# 18.998/22.9\n",
    "# echospacing = 0.1\n",
    "echospacing"
   ]
  },
  {
   "cell_type": "code",
   "execution_count": 54,
   "metadata": {},
   "outputs": [],
   "source": [
    "epif = 63\n",
    "inplane_acc = 1"
   ]
  },
  {
   "cell_type": "code",
   "execution_count": 55,
   "metadata": {},
   "outputs": [
    {
     "data": {
      "text/plain": [
       "33.61344537815126"
      ]
     },
     "execution_count": 55,
     "metadata": {},
     "output_type": "execute_result"
    }
   ],
   "source": [
    "(epif - 1) * echospacing / inplane_acc"
   ]
  },
  {
   "cell_type": "code",
   "execution_count": null,
   "metadata": {},
   "outputs": [],
   "source": []
  },
  {
   "cell_type": "markdown",
   "metadata": {},
   "source": [
    "# Functional `echospacing`\n",
    "------          \n",
    "\n",
    "`echospacing` was computed by using the `BW in EPI freq. dir. (Hz)` value from the scanner parameter file (which was equal to `1844.5`). This value should be analogous to the `BandwithPerPixel` value of Siemens scanners."
   ]
  },
  {
   "cell_type": "code",
   "execution_count": 2,
   "metadata": {},
   "outputs": [
    {
     "data": {
      "text/plain": [
       "0.5421523448088913"
      ]
     },
     "execution_count": 2,
     "metadata": {},
     "output_type": "execute_result"
    }
   ],
   "source": [
    "echospacing = 1/1844.5 * 1000\n",
    "echospacing"
   ]
  },
  {
   "cell_type": "code",
   "execution_count": 5,
   "metadata": {},
   "outputs": [],
   "source": [
    "from datetime import datetime"
   ]
  },
  {
   "cell_type": "code",
   "execution_count": 10,
   "metadata": {},
   "outputs": [
    {
     "data": {
      "text/plain": [
       "datetime.datetime(2021, 8, 23, 13, 36, 26, 17013)"
      ]
     },
     "execution_count": 10,
     "metadata": {},
     "output_type": "execute_result"
    }
   ],
   "source": [
    "datetime.now()"
   ]
  },
  {
   "cell_type": "code",
   "execution_count": 17,
   "metadata": {},
   "outputs": [],
   "source": [
    "from fmri_preproc.utils.enums import BBRType"
   ]
  },
  {
   "cell_type": "code",
   "execution_count": 2,
   "metadata": {},
   "outputs": [],
   "source": [
    "from fmri_preproc.utils.enums import PhaseEncodeDirection"
   ]
  },
  {
   "cell_type": "code",
   "execution_count": 28,
   "metadata": {},
   "outputs": [],
   "source": [
    "from fmri_preproc.utils.enums import SegType"
   ]
  },
  {
   "cell_type": "code",
   "execution_count": 3,
   "metadata": {},
   "outputs": [],
   "source": [
    "from fmri_preproc.utils.enums import LogLevel"
   ]
  },
  {
   "cell_type": "code",
   "execution_count": 6,
   "metadata": {},
   "outputs": [
    {
     "data": {
      "text/plain": [
       "'PA'"
      ]
     },
     "execution_count": 6,
     "metadata": {},
     "output_type": "execute_result"
    }
   ],
   "source": [
    "PhaseEncodeDirection('pa'.upper()).name"
   ]
  },
  {
   "cell_type": "code",
   "execution_count": 17,
   "metadata": {},
   "outputs": [
    {
     "data": {
      "text/plain": [
       "'pa,ap,lr,rl,is,si,ku'"
      ]
     },
     "execution_count": 17,
     "metadata": {},
     "output_type": "execute_result"
    }
   ],
   "source": [
    "pedir = \"PA,AP,LR,RL,IS,SI,ku\"\n",
    "pedir = pedir.lower()\n",
    "pedir"
   ]
  },
  {
   "cell_type": "code",
   "execution_count": 18,
   "metadata": {},
   "outputs": [
    {
     "data": {
      "text/plain": [
       "['pa', 'ap', 'lr', 'rl', 'is', 'si', 'ku']"
      ]
     },
     "execution_count": 18,
     "metadata": {},
     "output_type": "execute_result"
    }
   ],
   "source": [
    "pedir = pedir.split(\",\")\n",
    "pedir"
   ]
  },
  {
   "cell_type": "code",
   "execution_count": 19,
   "metadata": {},
   "outputs": [
    {
     "ename": "ValueError",
     "evalue": "'KU' is not a valid PhaseEncodeDirection",
     "output_type": "error",
     "traceback": [
      "\u001b[0;31m---------------------------------------------------------------------------\u001b[0m",
      "\u001b[0;31mValueError\u001b[0m                                Traceback (most recent call last)",
      "\u001b[0;32m<ipython-input-19-5074e66e948e>\u001b[0m in \u001b[0;36m<module>\u001b[0;34m\u001b[0m\n\u001b[0;32m----> 1\u001b[0;31m \u001b[0mpedir\u001b[0m \u001b[0;34m=\u001b[0m \u001b[0;34m[\u001b[0m \u001b[0mPhaseEncodeDirection\u001b[0m\u001b[0;34m(\u001b[0m\u001b[0mx\u001b[0m\u001b[0;34m.\u001b[0m\u001b[0mupper\u001b[0m\u001b[0;34m(\u001b[0m\u001b[0;34m)\u001b[0m\u001b[0;34m)\u001b[0m\u001b[0;34m.\u001b[0m\u001b[0mname\u001b[0m \u001b[0;32mfor\u001b[0m \u001b[0mx\u001b[0m \u001b[0;32min\u001b[0m \u001b[0mpedir\u001b[0m  \u001b[0;34m]\u001b[0m\u001b[0;34m\u001b[0m\u001b[0;34m\u001b[0m\u001b[0m\n\u001b[0m",
      "\u001b[0;32m<ipython-input-19-5074e66e948e>\u001b[0m in \u001b[0;36m<listcomp>\u001b[0;34m(.0)\u001b[0m\n\u001b[0;32m----> 1\u001b[0;31m \u001b[0mpedir\u001b[0m \u001b[0;34m=\u001b[0m \u001b[0;34m[\u001b[0m \u001b[0mPhaseEncodeDirection\u001b[0m\u001b[0;34m(\u001b[0m\u001b[0mx\u001b[0m\u001b[0;34m.\u001b[0m\u001b[0mupper\u001b[0m\u001b[0;34m(\u001b[0m\u001b[0;34m)\u001b[0m\u001b[0;34m)\u001b[0m\u001b[0;34m.\u001b[0m\u001b[0mname\u001b[0m \u001b[0;32mfor\u001b[0m \u001b[0mx\u001b[0m \u001b[0;32min\u001b[0m \u001b[0mpedir\u001b[0m  \u001b[0;34m]\u001b[0m\u001b[0;34m\u001b[0m\u001b[0;34m\u001b[0m\u001b[0m\n\u001b[0m",
      "\u001b[0;32m~/anaconda3/lib/python3.8/enum.py\u001b[0m in \u001b[0;36m__call__\u001b[0;34m(cls, value, names, module, qualname, type, start)\u001b[0m\n\u001b[1;32m    337\u001b[0m         \"\"\"\n\u001b[1;32m    338\u001b[0m         \u001b[0;32mif\u001b[0m \u001b[0mnames\u001b[0m \u001b[0;32mis\u001b[0m \u001b[0;32mNone\u001b[0m\u001b[0;34m:\u001b[0m  \u001b[0;31m# simple value lookup\u001b[0m\u001b[0;34m\u001b[0m\u001b[0;34m\u001b[0m\u001b[0m\n\u001b[0;32m--> 339\u001b[0;31m             \u001b[0;32mreturn\u001b[0m \u001b[0mcls\u001b[0m\u001b[0;34m.\u001b[0m\u001b[0m__new__\u001b[0m\u001b[0;34m(\u001b[0m\u001b[0mcls\u001b[0m\u001b[0;34m,\u001b[0m \u001b[0mvalue\u001b[0m\u001b[0;34m)\u001b[0m\u001b[0;34m\u001b[0m\u001b[0;34m\u001b[0m\u001b[0m\n\u001b[0m\u001b[1;32m    340\u001b[0m         \u001b[0;31m# otherwise, functional API: we're creating a new Enum type\u001b[0m\u001b[0;34m\u001b[0m\u001b[0;34m\u001b[0m\u001b[0;34m\u001b[0m\u001b[0m\n\u001b[1;32m    341\u001b[0m         return cls._create_(\n",
      "\u001b[0;32m~/anaconda3/lib/python3.8/enum.py\u001b[0m in \u001b[0;36m__new__\u001b[0;34m(cls, value)\u001b[0m\n\u001b[1;32m    661\u001b[0m                 \u001b[0mve_exc\u001b[0m \u001b[0;34m=\u001b[0m \u001b[0mValueError\u001b[0m\u001b[0;34m(\u001b[0m\u001b[0;34m\"%r is not a valid %s\"\u001b[0m \u001b[0;34m%\u001b[0m \u001b[0;34m(\u001b[0m\u001b[0mvalue\u001b[0m\u001b[0;34m,\u001b[0m \u001b[0mcls\u001b[0m\u001b[0;34m.\u001b[0m\u001b[0m__name__\u001b[0m\u001b[0;34m)\u001b[0m\u001b[0;34m)\u001b[0m\u001b[0;34m\u001b[0m\u001b[0;34m\u001b[0m\u001b[0m\n\u001b[1;32m    662\u001b[0m                 \u001b[0;32mif\u001b[0m \u001b[0mresult\u001b[0m \u001b[0;32mis\u001b[0m \u001b[0;32mNone\u001b[0m \u001b[0;32mand\u001b[0m \u001b[0mexc\u001b[0m \u001b[0;32mis\u001b[0m \u001b[0;32mNone\u001b[0m\u001b[0;34m:\u001b[0m\u001b[0;34m\u001b[0m\u001b[0;34m\u001b[0m\u001b[0m\n\u001b[0;32m--> 663\u001b[0;31m                     \u001b[0;32mraise\u001b[0m \u001b[0mve_exc\u001b[0m\u001b[0;34m\u001b[0m\u001b[0;34m\u001b[0m\u001b[0m\n\u001b[0m\u001b[1;32m    664\u001b[0m                 \u001b[0;32melif\u001b[0m \u001b[0mexc\u001b[0m \u001b[0;32mis\u001b[0m \u001b[0;32mNone\u001b[0m\u001b[0;34m:\u001b[0m\u001b[0;34m\u001b[0m\u001b[0;34m\u001b[0m\u001b[0m\n\u001b[1;32m    665\u001b[0m                     exc = TypeError(\n",
      "\u001b[0;31mValueError\u001b[0m: 'KU' is not a valid PhaseEncodeDirection"
     ]
    }
   ],
   "source": [
    "pedir = [ PhaseEncodeDirection(x.upper()).name for x in pedir ]"
   ]
  },
  {
   "cell_type": "code",
   "execution_count": 16,
   "metadata": {},
   "outputs": [
    {
     "data": {
      "text/plain": [
       "['PA', 'AP', 'LR', 'RL', 'IS', 'SI']"
      ]
     },
     "execution_count": 16,
     "metadata": {},
     "output_type": "execute_result"
    }
   ],
   "source": [
    "pedir"
   ]
  },
  {
   "cell_type": "code",
   "execution_count": null,
   "metadata": {},
   "outputs": [],
   "source": []
  },
  {
   "cell_type": "markdown",
   "metadata": {},
   "source": [
    "## Test timing `decorator`"
   ]
  },
  {
   "cell_type": "code",
   "execution_count": 1,
   "metadata": {},
   "outputs": [],
   "source": [
    "import sys\n",
    "_pkg_dir: str = \"/Users/adebayobraimah/Desktop/projects/fmri_preproc\"\n",
    "sys.path.append(_pkg_dir)"
   ]
  },
  {
   "cell_type": "code",
   "execution_count": 2,
   "metadata": {},
   "outputs": [],
   "source": [
    "from fmri_preproc.utils.util import timeops\n",
    "from fmri_preproc.utils.logutil import LogFile"
   ]
  },
  {
   "cell_type": "code",
   "execution_count": 3,
   "metadata": {},
   "outputs": [],
   "source": [
    "log = LogFile('test.1.log', use_root_logger=False)"
   ]
  },
  {
   "cell_type": "code",
   "execution_count": 4,
   "metadata": {},
   "outputs": [],
   "source": [
    "log.log(\"BEGIN: Test\",use_header=True)"
   ]
  },
  {
   "cell_type": "code",
   "execution_count": 5,
   "metadata": {},
   "outputs": [],
   "source": [
    "log.log(\"Some test function\")"
   ]
  },
  {
   "cell_type": "code",
   "execution_count": 6,
   "metadata": {},
   "outputs": [],
   "source": [
    "@timeops(log)\n",
    "def test_func(s: str, log: LogFile):\n",
    "    print(s)\n",
    "    log.log(f\"func str: {s}\")\n",
    "    return None"
   ]
  },
  {
   "cell_type": "code",
   "execution_count": 7,
   "metadata": {},
   "outputs": [
    {
     "name": "stdout",
     "output_type": "stream",
     "text": [
      "This is my string\n"
     ]
    }
   ],
   "source": [
    "test_func(\"This is my string\",log)"
   ]
  },
  {
   "cell_type": "code",
   "execution_count": 4,
   "metadata": {},
   "outputs": [],
   "source": [
    "# log.logger.exception()"
   ]
  },
  {
   "cell_type": "code",
   "execution_count": 4,
   "metadata": {},
   "outputs": [],
   "source": [
    "log = LogFile('test.1.log', format_log_str=True, level='info')"
   ]
  },
  {
   "cell_type": "code",
   "execution_count": 5,
   "metadata": {},
   "outputs": [],
   "source": [
    "log.log(\"Yay!\")"
   ]
  },
  {
   "cell_type": "code",
   "execution_count": 6,
   "metadata": {},
   "outputs": [],
   "source": [
    "log.log(\"Hmm\")"
   ]
  },
  {
   "cell_type": "code",
   "execution_count": 1,
   "metadata": {},
   "outputs": [],
   "source": [
    "import sys\n",
    "_pkg_dir: str = \"/Users/adebayobraimah/Desktop/projects/fmri_preproc\"\n",
    "sys.path.append(_pkg_dir)"
   ]
  },
  {
   "cell_type": "code",
   "execution_count": 2,
   "metadata": {},
   "outputs": [],
   "source": [
    "from fmri_preproc.func.importdata import testfunc\n",
    "from fmri_preproc.utils.logutil import LogFile"
   ]
  },
  {
   "cell_type": "code",
   "execution_count": 3,
   "metadata": {},
   "outputs": [],
   "source": [
    "log = LogFile('test.file1.log',format_log_str=True)"
   ]
  },
  {
   "cell_type": "code",
   "execution_count": 4,
   "metadata": {},
   "outputs": [],
   "source": [
    "log.log(\"Does this work?\", use_header=True)"
   ]
  },
  {
   "cell_type": "code",
   "execution_count": 5,
   "metadata": {},
   "outputs": [
    {
     "data": {
      "text/plain": [
       "'my string'"
      ]
     },
     "execution_count": 5,
     "metadata": {},
     "output_type": "execute_result"
    }
   ],
   "source": [
    "testfunc(\"my string\",log)"
   ]
  },
  {
   "cell_type": "markdown",
   "metadata": {},
   "source": [
    "# Get BIDS `run` number from input func file name"
   ]
  },
  {
   "cell_type": "code",
   "execution_count": 1,
   "metadata": {},
   "outputs": [],
   "source": [
    "import sys\n",
    "_pkg_dir: str = \"/Users/adebayobraimah/Desktop/projects/fmri_preproc\"\n",
    "sys.path.append(_pkg_dir)"
   ]
  },
  {
   "cell_type": "code",
   "execution_count": 2,
   "metadata": {},
   "outputs": [],
   "source": [
    "from fmri_preproc.utils.fileio import File, NiiFile"
   ]
  },
  {
   "cell_type": "code",
   "execution_count": 3,
   "metadata": {},
   "outputs": [],
   "source": [
    "nii = \"/Users/adebayobraimah/Desktop/projects/fmri_preproc/data/sub-194/functional/sub-194/func/sub-194_task-rest_dir-PA_run-01_bold.nii.gz\""
   ]
  },
  {
   "cell_type": "code",
   "execution_count": 4,
   "metadata": {},
   "outputs": [],
   "source": [
    "with NiiFile(src=nii, assert_exists=True, validate_nifti=True) as n:\n",
    "    dirname, fname, _ = n.file_parts()"
   ]
  },
  {
   "cell_type": "code",
   "execution_count": 5,
   "metadata": {},
   "outputs": [
    {
     "data": {
      "text/plain": [
       "'sub-194_task-rest_dir-PA_run-01_bold'"
      ]
     },
     "execution_count": 5,
     "metadata": {},
     "output_type": "execute_result"
    }
   ],
   "source": [
    "fname"
   ]
  },
  {
   "cell_type": "code",
   "execution_count": 8,
   "metadata": {},
   "outputs": [
    {
     "data": {
      "text/plain": [
       "['sub-194', 'task-rest', 'dir-PA', 'run-01', 'bold']"
      ]
     },
     "execution_count": 8,
     "metadata": {},
     "output_type": "execute_result"
    }
   ],
   "source": [
    "fname.split('_')"
   ]
  },
  {
   "cell_type": "code",
   "execution_count": 9,
   "metadata": {},
   "outputs": [
    {
     "data": {
      "text/plain": [
       "False"
      ]
     },
     "execution_count": 9,
     "metadata": {},
     "output_type": "execute_result"
    }
   ],
   "source": [
    "'run' in fname.split('_')"
   ]
  },
  {
   "cell_type": "code",
   "execution_count": 10,
   "metadata": {},
   "outputs": [
    {
     "data": {
      "text/plain": [
       "5"
      ]
     },
     "execution_count": 10,
     "metadata": {},
     "output_type": "execute_result"
    }
   ],
   "source": [
    "len(fname.split('_'))"
   ]
  },
  {
   "cell_type": "code",
   "execution_count": 14,
   "metadata": {},
   "outputs": [
    {
     "name": "stdout",
     "output_type": "stream",
     "text": [
      "01\n"
     ]
    }
   ],
   "source": [
    "for i in fname.split('_'):\n",
    "    if 'run' in i:\n",
    "        print(i[4:])"
   ]
  },
  {
   "cell_type": "code",
   "execution_count": 1,
   "metadata": {},
   "outputs": [],
   "source": [
    "import sys\n",
    "import os\n",
    "_pkg_dir: str = \"/Users/adebayobraimah/Desktop/projects/fmri_preproc\"\n",
    "sys.path.append(_pkg_dir)"
   ]
  },
  {
   "cell_type": "code",
   "execution_count": 2,
   "metadata": {},
   "outputs": [],
   "source": [
    "from fmri_preproc.utils.fileio import File, NiiFile\n",
    "from fmri_preproc.utils.tempdir import TmpDir\n",
    "from fmri_preproc.utils.workdir import WorkDir\n",
    "from fmri_preproc.func.registration import _select_atlas"
   ]
  },
  {
   "cell_type": "code",
   "execution_count": 3,
   "metadata": {},
   "outputs": [],
   "source": [
    "test_file = '/Users/adebayobraimah/Desktop/projects/fmri_preproc/README.md'"
   ]
  },
  {
   "cell_type": "code",
   "execution_count": 6,
   "metadata": {},
   "outputs": [
    {
     "name": "stdout",
     "output_type": "stream",
     "text": [
      "<File /Users/adebayobraimah/Desktop/projects/fmri_preproc/README.md>\n"
     ]
    }
   ],
   "source": [
    "with File(src=test_file, assert_exists=True) as f:\n",
    "    # print(f.abspath())\n",
    "    print(f)"
   ]
  },
  {
   "cell_type": "code",
   "execution_count": 9,
   "metadata": {},
   "outputs": [],
   "source": [
    "f = File(src=test_file, assert_exists=True)"
   ]
  },
  {
   "cell_type": "code",
   "execution_count": 9,
   "metadata": {},
   "outputs": [
    {
     "data": {
      "text/plain": [
       "str"
      ]
     },
     "execution_count": 9,
     "metadata": {},
     "output_type": "execute_result"
    }
   ],
   "source": [
    "type(f.src)"
   ]
  },
  {
   "cell_type": "code",
   "execution_count": 12,
   "metadata": {},
   "outputs": [
    {
     "name": "stdout",
     "output_type": "stream",
     "text": [
      "<File /Users/adebayobraimah/Desktop/projects/fmri_preproc/fmri_preproc/utils/tmp_dir_4931/test.tmp.txt>\n",
      "/Users/adebayobraimah/Desktop/projects/fmri_preproc/fmri_preproc/utils/tmp_dir_4931\n"
     ]
    }
   ],
   "source": [
    "# with TmpDir(src='test.tmp') as tmp:\n",
    "with TmpDir(src=os.getcwd()) as tmp:\n",
    "    with File(src=os.path.join(tmp.src,\"test.tmp.txt\")) as f:\n",
    "        f.touch()\n",
    "        print(f)\n",
    "        print(tmp.src)"
   ]
  },
  {
   "cell_type": "code",
   "execution_count": 10,
   "metadata": {},
   "outputs": [
    {
     "data": {
      "text/plain": [
       "('/Users/adebayobraimah/Desktop/projects/fmri_preproc', 'README.md')"
      ]
     },
     "execution_count": 10,
     "metadata": {},
     "output_type": "execute_result"
    }
   ],
   "source": [
    "os.path.join\n",
    "os.path.split(test_file)"
   ]
  },
  {
   "cell_type": "code",
   "execution_count": 4,
   "metadata": {},
   "outputs": [
    {
     "name": "stdout",
     "output_type": "stream",
     "text": [
      "/Users/adebayobraimah/Desktop/projects/fmri_preproc/fmri_preproc/utils/test/new/file/place\n"
     ]
    }
   ],
   "source": [
    "with WorkDir(src=\"test\") as test:\n",
    "    # print(test.join(\"new\",\"file\",\"place\"))\n",
    "    n = test.join(\"new\",\"file\",\"place\")\n",
    "    with WorkDir(src=n) as nn:\n",
    "        print(nn.abspath())"
   ]
  },
  {
   "cell_type": "code",
   "execution_count": 3,
   "metadata": {},
   "outputs": [],
   "source": [
    "# atlasdir: str = \"/Users/adebayobraimah/Desktop/projects/fmri_preproc/atlas\"\n",
    "atlasdir: str = \"/Users/adebayobraimah/Desktop/projects/fmri_preproc/UNCInfant012Atlases-2020-08-27\""
   ]
  },
  {
   "cell_type": "code",
   "execution_count": 4,
   "metadata": {},
   "outputs": [
    {
     "data": {
      "text/plain": [
       "{'template_T1': None,\n",
       " 'template_T2': 'infant-neo.nii.gz',\n",
       " 'gm_prob': '/Users/adebayobraimah/Desktop/projects/fmri_preproc/UNCInfant012Atlases-2020-08-27/templates/infant-neo-seg-gm.nii.gz',\n",
       " 'wm_prob': '/Users/adebayobraimah/Desktop/projects/fmri_preproc/UNCInfant012Atlases-2020-08-27/templates/infant-neo-seg-wm.nii.gz',\n",
       " 'seg': None,\n",
       " 'probseg': None}"
      ]
     },
     "execution_count": 4,
     "metadata": {},
     "output_type": "execute_result"
    }
   ],
   "source": [
    "_select_atlas(atlasdir, 'neonate')"
   ]
  },
  {
   "cell_type": "code",
   "execution_count": 1,
   "metadata": {},
   "outputs": [],
   "source": [
    "import sys\n",
    "import os\n",
    "_pkg_dir: str = \"/Users/adebayobraimah/Desktop/projects/fmri_preproc\"\n",
    "sys.path.append(_pkg_dir)"
   ]
  },
  {
   "cell_type": "code",
   "execution_count": 2,
   "metadata": {},
   "outputs": [],
   "source": [
    "import glob"
   ]
  },
  {
   "cell_type": "code",
   "execution_count": 3,
   "metadata": {},
   "outputs": [],
   "source": [
    "from fmri_preproc import __version__ as version"
   ]
  },
  {
   "cell_type": "code",
   "execution_count": 4,
   "metadata": {},
   "outputs": [
    {
     "data": {
      "text/plain": [
       "'0.0.1a'"
      ]
     },
     "execution_count": 4,
     "metadata": {},
     "output_type": "execute_result"
    }
   ],
   "source": [
    "version"
   ]
  },
  {
   "cell_type": "code",
   "execution_count": 5,
   "metadata": {},
   "outputs": [],
   "source": [
    "from fmri_preproc.func.registration import ATLASDIR"
   ]
  },
  {
   "cell_type": "code",
   "execution_count": 6,
   "metadata": {},
   "outputs": [
    {
     "data": {
      "text/plain": [
       "'/Users/adebayobraimah/Desktop/projects/fmri_preproc/fmri_preproc/resources/atlases'"
      ]
     },
     "execution_count": 6,
     "metadata": {},
     "output_type": "execute_result"
    }
   ],
   "source": [
    "ATLASDIR"
   ]
  },
  {
   "cell_type": "code",
   "execution_count": 4,
   "metadata": {},
   "outputs": [],
   "source": [
    "from fmri_preproc.func.registration import _select_atlas"
   ]
  },
  {
   "cell_type": "code",
   "execution_count": 5,
   "metadata": {},
   "outputs": [
    {
     "data": {
      "text/plain": [
       "{'template_T1': None,\n",
       " 'template_T2': 'infant-1yr.nii.gz',\n",
       " 'gm_prob': '/Users/adebayobraimah/Desktop/projects/fmri_preproc/fmri_preproc/resources/atlases/UNCInfant012Atlases-2020-08-27/templates/infant-1yr-seg-gm.nii.gz',\n",
       " 'wm_prob': '/Users/adebayobraimah/Desktop/projects/fmri_preproc/fmri_preproc/resources/atlases/UNCInfant012Atlases-2020-08-27/templates/infant-1yr-seg-wm.nii.gz',\n",
       " 'seg': '/Users/adebayobraimah/Desktop/projects/fmri_preproc/fmri_preproc/resources/atlases/UNCInfant012Atlases-2020-08-27/templates/infant-1yr-seg.nii.gz',\n",
       " 'prob': '/Users/adebayobraimah/Desktop/projects/fmri_preproc/fmri_preproc/resources/atlases/UNCInfant012Atlases-2020-08-27/templates/infant-1yr-avgseg.nii.gz',\n",
       " 'atlas_name': 'UNCAAL',\n",
       " 'atlas_age': '1yr',\n",
       " 'xfm': None,\n",
       " 'invxfm': ''}"
      ]
     },
     "execution_count": 5,
     "metadata": {},
     "output_type": "execute_result"
    }
   ],
   "source": [
    "_select_atlas(age=1)"
   ]
  },
  {
   "cell_type": "code",
   "execution_count": 20,
   "metadata": {},
   "outputs": [],
   "source": [
    "atlasdir: str = ' '.join(map(str, glob.glob(os.path.join(ATLASDIR,\"UNC*2020*\"))))"
   ]
  },
  {
   "cell_type": "code",
   "execution_count": 21,
   "metadata": {},
   "outputs": [],
   "source": [
    "atlasdir = ' '.join(map(str, glob.glob(os.path.join(ATLASDIR,\"dHCPatlas\"))))"
   ]
  },
  {
   "cell_type": "code",
   "execution_count": 21,
   "metadata": {},
   "outputs": [
    {
     "data": {
      "text/plain": [
       "str"
      ]
     },
     "execution_count": 21,
     "metadata": {},
     "output_type": "execute_result"
    }
   ],
   "source": [
    "type(atlasdir)"
   ]
  },
  {
   "cell_type": "code",
   "execution_count": 15,
   "metadata": {},
   "outputs": [],
   "source": [
    "age = 43"
   ]
  },
  {
   "cell_type": "code",
   "execution_count": 16,
   "metadata": {},
   "outputs": [
    {
     "data": {
      "text/plain": [
       "True"
      ]
     },
     "execution_count": 16,
     "metadata": {},
     "output_type": "execute_result"
    }
   ],
   "source": [
    "(28 < age) and (age < 44)"
   ]
  },
  {
   "cell_type": "code",
   "execution_count": 22,
   "metadata": {},
   "outputs": [
    {
     "data": {
      "text/plain": [
       "True"
      ]
     },
     "execution_count": 22,
     "metadata": {},
     "output_type": "execute_result"
    }
   ],
   "source": [
    "'dHCPatlas' in atlasdir"
   ]
  },
  {
   "cell_type": "code",
   "execution_count": 14,
   "metadata": {},
   "outputs": [],
   "source": [
    "from fmri_preproc.utils.workdir import WorkDir\n",
    "from fmri_preproc.utils.fileio import File"
   ]
  },
  {
   "cell_type": "code",
   "execution_count": 12,
   "metadata": {},
   "outputs": [],
   "source": [
    "out = 'test.ants/output_'"
   ]
  },
  {
   "cell_type": "code",
   "execution_count": 13,
   "metadata": {},
   "outputs": [
    {
     "name": "stdout",
     "output_type": "stream",
     "text": [
      "/Users/adebayobraimah/Desktop/projects/fmri_preproc/fmri_preproc/utils/test.ants/output_\n"
     ]
    }
   ],
   "source": [
    "with WorkDir(src=out) as o:\n",
    "    print(o.abspath())"
   ]
  },
  {
   "cell_type": "code",
   "execution_count": 16,
   "metadata": {},
   "outputs": [
    {
     "name": "stdout",
     "output_type": "stream",
     "text": [
      "('/Users/adebayobraimah/Desktop/projects/fmri_preproc/fmri_preproc/utils/test.ants', 'output_', '')\n"
     ]
    }
   ],
   "source": [
    "with File(src=out) as o:\n",
    "    print(o.file_parts())"
   ]
  },
  {
   "cell_type": "code",
   "execution_count": 17,
   "metadata": {},
   "outputs": [
    {
     "name": "stdout",
     "output_type": "stream",
     "text": [
      "('/Users/adebayobraimah/Desktop/projects/fmri_preproc/fmri_preproc', 'utils', '')\n"
     ]
    }
   ],
   "source": [
    "with File(src=os.getcwd()) as o:\n",
    "    print(o.file_parts())"
   ]
  },
  {
   "cell_type": "code",
   "execution_count": 1,
   "metadata": {},
   "outputs": [],
   "source": [
    "import sys\n",
    "import os\n",
    "_pkg_dir: str = \"/Users/adebayobraimah/Desktop/projects/fmri_preproc\"\n",
    "sys.path.append(_pkg_dir)"
   ]
  },
  {
   "cell_type": "code",
   "execution_count": 2,
   "metadata": {},
   "outputs": [],
   "source": [
    "from fmri_preproc.utils.outputs.importdata import ImportFunc"
   ]
  },
  {
   "cell_type": "code",
   "execution_count": 3,
   "metadata": {},
   "outputs": [],
   "source": [
    "out_func = ImportFunc(outdir='test.1')"
   ]
  },
  {
   "cell_type": "code",
   "execution_count": 4,
   "metadata": {},
   "outputs": [
    {
     "data": {
      "text/plain": [
       "{'func': '/Users/adebayobraimah/Desktop/projects/fmri_preproc/fmri_preproc/utils/test.1/func.nii.gz',\n",
       " 'func_mean': '/Users/adebayobraimah/Desktop/projects/fmri_preproc/fmri_preproc/utils/test.1/func_mean.nii.gz',\n",
       " 'func_brainmask': '/Users/adebayobraimah/Desktop/projects/fmri_preproc/fmri_preproc/utils/test.1/func_brainmask.nii.gz',\n",
       " 'func_slorder': '/Users/adebayobraimah/Desktop/projects/fmri_preproc/fmri_preproc/utils/test.1/func.slorder',\n",
       " 'sbref': '/Users/adebayobraimah/Desktop/projects/fmri_preproc/fmri_preproc/utils/test.1/sbref.nii.gz',\n",
       " 'sbref_brainmask': '/Users/adebayobraimah/Desktop/projects/fmri_preproc/fmri_preproc/utils/test.1/sbref_brainmask.nii.gz',\n",
       " 'func_std': '/Users/adebayobraimah/Desktop/projects/fmri_preproc/fmri_preproc/utils/test.1/func_std.nii.gz',\n",
       " 'func_tsnr': '/Users/adebayobraimah/Desktop/projects/fmri_preproc/fmri_preproc/utils/test.1/func_tsnr.nii.gz',\n",
       " 'func0': '/Users/adebayobraimah/Desktop/projects/fmri_preproc/fmri_preproc/utils/test.1/func0.nii.gz',\n",
       " 'func_dil_brainmask': '/Users/adebayobraimah/Desktop/projects/fmri_preproc/fmri_preproc/utils/test.1/func_dilated_brainmask.nii.gz',\n",
       " 'func_metrics': '/Users/adebayobraimah/Desktop/projects/fmri_preproc/fmri_preproc/utils/test.1/func_regressors.tsv',\n",
       " 'func_out_plot': '/Users/adebayobraimah/Desktop/projects/fmri_preproc/fmri_preproc/utils/test.1/func_outliers.png'}"
      ]
     },
     "execution_count": 4,
     "metadata": {},
     "output_type": "execute_result"
    }
   ],
   "source": [
    "out_func.outputs()"
   ]
  },
  {
   "cell_type": "code",
   "execution_count": 8,
   "metadata": {},
   "outputs": [
    {
     "data": {
      "text/plain": [
       "False"
      ]
     },
     "execution_count": 8,
     "metadata": {},
     "output_type": "execute_result"
    }
   ],
   "source": [
    "out_func.check_exists('func')"
   ]
  },
  {
   "cell_type": "code",
   "execution_count": 3,
   "metadata": {},
   "outputs": [],
   "source": [
    "import sys\n",
    "import os\n",
    "_pkg_dir: str = \"/Users/adebayobraimah/Desktop/projects/fmri_preproc\"\n",
    "sys.path.append(_pkg_dir)"
   ]
  },
  {
   "cell_type": "code",
   "execution_count": 4,
   "metadata": {},
   "outputs": [],
   "source": [
    "from fmri_preproc.utils.outputs.registration import MRreg"
   ]
  },
  {
   "cell_type": "code",
   "execution_count": 9,
   "metadata": {},
   "outputs": [],
   "source": [
    "from typing import Dict,Tuple"
   ]
  },
  {
   "cell_type": "code",
   "execution_count": 5,
   "metadata": {},
   "outputs": [],
   "source": [
    "t=\"/Users/adebayobraimah/Desktop/projects/fmri_preproc/test/test.1/sub-194/run-01\""
   ]
  },
  {
   "cell_type": "code",
   "execution_count": 10,
   "metadata": {},
   "outputs": [],
   "source": [
    "src_space='fmap'\n",
    "ref_space='struct'\n",
    "\n",
    "fm2st_reg: MRreg = MRreg(outdir=t)\n",
    "tt: Dict[str,str] = fm2st_reg.outputs(src_space=src_space, ref_space=ref_space)\n",
    "fm2st_files: Tuple[str] = ('affine',\n",
    "                            'inv_affine',\n",
    "                            'resampled_image',\n",
    "                            'init_affine')"
   ]
  },
  {
   "cell_type": "code",
   "execution_count": 12,
   "metadata": {},
   "outputs": [
    {
     "data": {
      "text/plain": [
       "True"
      ]
     },
     "execution_count": 12,
     "metadata": {},
     "output_type": "execute_result"
    }
   ],
   "source": [
    "fm2st_reg.check_exists(*fm2st_files)"
   ]
  },
  {
   "cell_type": "code",
   "execution_count": 2,
   "metadata": {},
   "outputs": [],
   "source": [
    "from typing import (\n",
    "    Dict,\n",
    "    Union,\n",
    "    List,\n",
    "    Set\n",
    ")\n",
    "from collections import OrderedDict"
   ]
  },
  {
   "cell_type": "code",
   "execution_count": 7,
   "metadata": {},
   "outputs": [],
   "source": [
    "age = 44\n",
    "standard_age = 40"
   ]
  },
  {
   "cell_type": "code",
   "execution_count": 3,
   "metadata": {},
   "outputs": [],
   "source": [
    "template_ages = [ 'neo', 1 ,2 , 21, 40, 41, 42, 43, 44]"
   ]
  },
  {
   "cell_type": "code",
   "execution_count": 8,
   "metadata": {},
   "outputs": [],
   "source": [
    "# Fill dictionary\n",
    "age_dict: OrderedDict = OrderedDict()\n",
    "\n",
    "for template_age in template_ages:\n",
    "    if (template_age == 'neo') or (template_age == 'neonate'):\n",
    "        template_source: str = f'UNCAAL-{template_age}'\n",
    "        template_space: str = f'UNCAAL-{template_age}'\n",
    "        temp_age: Union[int,str] = template_age\n",
    "        std_age: Union[int,str] = template_age\n",
    "    elif (template_age == 1) or (template_age == 2):\n",
    "        template_source: str = f'UNCAAL-{template_age}yrs'\n",
    "        template_space: str = f'UNCAAL-{template_age}yrs'\n",
    "        temp_age: Union[int,str] = template_age\n",
    "        std_age: Union[int,str] = template_age\n",
    "    elif template_age == age:\n",
    "        template_source: str = f'template-{template_age}wks'\n",
    "        template_space: str = 'standard'\n",
    "        temp_age: Union[int,str] = template_age\n",
    "        std_age: Union[int,str] = standard_age\n",
    "    else:\n",
    "        template_source: str = f'template-{template_age}wks'\n",
    "        template_space: str = f'template-{template_age}wks'\n",
    "        temp_age: Union[int,str] = template_age\n",
    "        std_age: Union[int,str] = template_age\n",
    "    \n",
    "    tmp_dict: Dict[str,str] = {\n",
    "        template_age: {\n",
    "            \"template_source\": template_source,\n",
    "            \"template_space\": template_space,\n",
    "            \"template_age\": temp_age,\n",
    "            \"standard_age\": std_age,\n",
    "        }\n",
    "    }\n",
    "\n",
    "    age_dict.update(**tmp_dict)"
   ]
  },
  {
   "cell_type": "code",
   "execution_count": 10,
   "metadata": {},
   "outputs": [
    {
     "ename": "SyntaxError",
     "evalue": "invalid syntax (<ipython-input-10-c0ca880deb12>, line 1)",
     "output_type": "error",
     "traceback": [
      "\u001b[0;36m  File \u001b[0;32m\"<ipython-input-10-c0ca880deb12>\"\u001b[0;36m, line \u001b[0;32m1\u001b[0m\n\u001b[0;31m    **age_dict\u001b[0m\n\u001b[0m    ^\u001b[0m\n\u001b[0;31mSyntaxError\u001b[0m\u001b[0;31m:\u001b[0m invalid syntax\n"
     ]
    }
   ],
   "source": [
    "**age_dict"
   ]
  },
  {
   "cell_type": "code",
   "execution_count": 15,
   "metadata": {},
   "outputs": [],
   "source": [
    "def _pr(**kwargs):\n",
    "    for k,v in kwargs.items():\n",
    "        print(f\"{k}={v}\")"
   ]
  },
  {
   "cell_type": "code",
   "execution_count": 16,
   "metadata": {},
   "outputs": [
    {
     "name": "stdout",
     "output_type": "stream",
     "text": [
      "template_source=UNCAAL-neo\n",
      "template_space=UNCAAL-neo\n",
      "template_age=neo\n",
      "standard_age=neo\n"
     ]
    }
   ],
   "source": [
    "_pr(**age_dict.get('neo'))"
   ]
  },
  {
   "cell_type": "code",
   "execution_count": 1,
   "metadata": {},
   "outputs": [],
   "source": [
    "import sys\n",
    "import os\n",
    "_pkg_dir: str = \"/Users/adebayobraimah/Desktop/projects/fmri_preproc\"\n",
    "sys.path.append(_pkg_dir)"
   ]
  },
  {
   "cell_type": "code",
   "execution_count": 2,
   "metadata": {},
   "outputs": [],
   "source": [
    "from fmri_preproc.utils.util import settings, dict2json, json2dict"
   ]
  },
  {
   "cell_type": "code",
   "execution_count": 3,
   "metadata": {},
   "outputs": [],
   "source": [
    "s = \"/Users/adebayobraimah/Desktop/projects/fmri_preproc/test/settigs.test.json\""
   ]
  },
  {
   "cell_type": "code",
   "execution_count": 7,
   "metadata": {},
   "outputs": [
    {
     "data": {
      "text/plain": [
       "{'func_inplane_accel': 1.0,\n",
       " 'func_slorder': None,\n",
       " 'mb_factor': 3,\n",
       " 'sbref_echospacing': None,\n",
       " 'dseg_type': 'drawem',\n",
       " 'probseg_type': 'drawem',\n",
       " 'mask_func': False,\n",
       " 'spinecho_echospacing': None,\n",
       " 'spinecho_epifactor': None,\n",
       " 'spinecho_inplaneacc': None,\n",
       " 'use_mcflirt': True,\n",
       " 's2v': False,\n",
       " 'dc': False,\n",
       " 'mbs': False,\n",
       " 'standard_age': 40,\n",
       " 'quick': False,\n",
       " 'atlasdir': None,\n",
       " 'template_ages': [],\n",
       " 'temporal_fwhm': 150.0,\n",
       " 'icadim': None,\n",
       " 'rdata': None,\n",
       " 'fix_threshold': 10,\n",
       " 'group_qc': None,\n",
       " 'group_map': None,\n",
       " 'standard_res': 1.5,\n",
       " 'verbose': False,\n",
       " 'log_level': 'info'}"
      ]
     },
     "execution_count": 7,
     "metadata": {},
     "output_type": "execute_result"
    }
   ],
   "source": [
    "settings(s,use_mcflirt=None)"
   ]
  },
  {
   "cell_type": "code",
   "execution_count": 1,
   "metadata": {},
   "outputs": [],
   "source": [
    "import sys\n",
    "import os\n",
    "_pkg_dir: str = \"/Users/adebayobraimah/Desktop/projects/fmri_preproc\"\n",
    "sys.path.append(_pkg_dir)"
   ]
  },
  {
   "cell_type": "code",
   "execution_count": 2,
   "metadata": {},
   "outputs": [
    {
     "name": "stderr",
     "output_type": "stream",
     "text": [
      "/Users/adebayobraimah/anaconda3/lib/python3.8/site-packages/nilearn/datasets/__init__.py:86: FutureWarning: Fetchers from the nilearn.datasets module will be updated in version 0.9 to return python strings instead of bytes and Pandas dataframes instead of Numpy arrays.\n",
      "  warn(\"Fetchers from the nilearn.datasets module will be \"\n"
     ]
    }
   ],
   "source": [
    "from fmri_preproc.func.pipeline import (\n",
    "    import_info\n",
    ")"
   ]
  },
  {
   "cell_type": "code",
   "execution_count": 7,
   "metadata": {},
   "outputs": [
    {
     "data": {
      "text/plain": [
       "('/Users/adebayobraimah/Desktop/projects/fmri_preproc/notebooks/test.1/sub-001/run-01',\n",
       " '/Users/adebayobraimah/Desktop/projects/fmri_preproc/notebooks/test.1/sub-001/run-01/logs',\n",
       " '/Users/adebayobraimah/Desktop/projects/fmri_preproc/notebooks/test.1/sub-001/run-01/sub-001_info.json',\n",
       " {'subid': '001',\n",
       "  'sesid': None,\n",
       "  'runid': '01',\n",
       "  'scan_pma': 43,\n",
       "  'birth_ga': None})"
      ]
     },
     "execution_count": 7,
     "metadata": {},
     "output_type": "execute_result"
    }
   ],
   "source": [
    "import_info(outdir='test.1',subid='001',runid='01')"
   ]
  },
  {
   "cell_type": "code",
   "execution_count": 2,
   "metadata": {},
   "outputs": [],
   "source": [
    "from fmri_preproc.utils.util import dict2json"
   ]
  },
  {
   "cell_type": "code",
   "execution_count": 4,
   "metadata": {},
   "outputs": [],
   "source": [
    "import nibabel as nib"
   ]
  },
  {
   "cell_type": "code",
   "execution_count": 3,
   "metadata": {},
   "outputs": [],
   "source": [
    "out = \"/Users/adebayobraimah/Desktop/projects/fmri_preproc/fmri_preproc/resources/classifiers/cchmc_neonate_MB3/cchmc_neonate_MB3.json\""
   ]
  },
  {
   "cell_type": "code",
   "execution_count": 5,
   "metadata": {},
   "outputs": [],
   "source": [
    "func = \"/Users/adebayobraimah/Desktop/projects/fmri_preproc/data/sub-194/functional/sub-194/func/sub-194_task-rest_dir-PA_run-01_bold.nii.gz\""
   ]
  },
  {
   "cell_type": "code",
   "execution_count": 8,
   "metadata": {},
   "outputs": [
    {
     "data": {
      "text/plain": [
       "1.1997647"
      ]
     },
     "execution_count": 8,
     "metadata": {},
     "output_type": "execute_result"
    }
   ],
   "source": [
    "func_tr: float = nib.load(func).header.get('pixdim','')[4]\n",
    "func_tr"
   ]
  },
  {
   "cell_type": "code",
   "execution_count": 36,
   "metadata": {},
   "outputs": [],
   "source": [
    "fix_params = {\n",
    "    \"x_size\": int(nib.load(func).header.get('dim','')[1]),\n",
    "    \"y_size\": int(nib.load(func).header.get('dim','')[2]),\n",
    "    \"z_size\": int(nib.load(func).header.get('dim','')[3]),\n",
    "    \"t_size\": int(nib.load(func).header.get('dim','')[4]),\n",
    "    \"x_vox\": float(nib.load(func).header.get('pixdim','')[1]),\n",
    "    \"y_vox\": float(nib.load(func).header.get('pixdim','')[2]),\n",
    "    \"z_vox\": float(nib.load(func).header.get('pixdim','')[3]),\n",
    "    \"TR\": round(float(nib.load(func).header.get('pixdim','')[4]), 4),\n",
    "    \"InplaneAccelerationFactor\": 1.0,\n",
    "    \"MultibandAccelerationFactor\": 3,\n",
    "    \"topup\": True,\n",
    "    \"dseg_type\": \"drawem\",\n",
    "    \"fieldmap_correction\": True,\n",
    "    \"eddy\": True,\n",
    "    \"dc\": True,\n",
    "    \"mbs\": True,\n",
    "    \"s2v\": True,\n",
    "    \"mc\": True,\n",
    "    \"icadim\": \"Automatic_Dimensionality_Estimation\",\n",
    "    \"temporal_fwhm\": 150.0,\n",
    "    \"smooth\": 0,\n",
    "    \"intnorm\": False,\n",
    "    \"NumberOfSubjects\": 21,\n",
    "    \"MeanAge\": 44,\n",
    "}"
   ]
  },
  {
   "cell_type": "code",
   "execution_count": 18,
   "metadata": {},
   "outputs": [
    {
     "data": {
      "text/plain": [
       "64"
      ]
     },
     "execution_count": 18,
     "metadata": {},
     "output_type": "execute_result"
    }
   ],
   "source": [
    "fix_params['xdim']"
   ]
  },
  {
   "cell_type": "code",
   "execution_count": 37,
   "metadata": {},
   "outputs": [
    {
     "data": {
      "text/plain": [
       "{'x_size': 64,\n",
       " 'y_size': 64,\n",
       " 'z_size': 45,\n",
       " 't_size': 400,\n",
       " 'x_vox': 2.5,\n",
       " 'y_vox': 2.5,\n",
       " 'z_vox': 2.5,\n",
       " 'TR': 1.1998,\n",
       " 'InplaneAccelerationFactor': 1.0,\n",
       " 'MultibandAccelerationFactor': 3,\n",
       " 'topup': True,\n",
       " 'dseg_type': 'drawem',\n",
       " 'fieldmap_correction': True,\n",
       " 'eddy': True,\n",
       " 'dc': True,\n",
       " 'mbs': True,\n",
       " 's2v': True,\n",
       " 'mc': True,\n",
       " 'icadim': 'Automatic_Dimensionality_Estimation',\n",
       " 'temporal_fwhm': 150.0,\n",
       " 'smooth': 0,\n",
       " 'intnorm': False,\n",
       " 'NumberOfSubjects': 21,\n",
       " 'MeanAge': 44}"
      ]
     },
     "execution_count": 37,
     "metadata": {},
     "output_type": "execute_result"
    }
   ],
   "source": [
    "fix_params"
   ]
  },
  {
   "cell_type": "code",
   "execution_count": 38,
   "metadata": {},
   "outputs": [
    {
     "data": {
      "text/plain": [
       "'/Users/adebayobraimah/Desktop/projects/fmri_preproc/fmri_preproc/resources/classifiers/cchmc_neonate_MB3/cchmc_neonate_MB3.json'"
      ]
     },
     "execution_count": 38,
     "metadata": {},
     "output_type": "execute_result"
    }
   ],
   "source": [
    "dict2json(dict=fix_params,jsonfile=out)"
   ]
  },
  {
   "cell_type": "code",
   "execution_count": 32,
   "metadata": {},
   "outputs": [
    {
     "data": {
      "text/plain": [
       "3.142"
      ]
     },
     "execution_count": 32,
     "metadata": {},
     "output_type": "execute_result"
    }
   ],
   "source": [
    "round(3.141596,3)"
   ]
  },
  {
   "cell_type": "code",
   "execution_count": 2,
   "metadata": {},
   "outputs": [],
   "source": [
    "from fmri_preproc import DEFAULT_CLASSIFIER"
   ]
  },
  {
   "cell_type": "code",
   "execution_count": 3,
   "metadata": {},
   "outputs": [
    {
     "data": {
      "text/plain": [
       "True"
      ]
     },
     "execution_count": 3,
     "metadata": {},
     "output_type": "execute_result"
    }
   ],
   "source": [
    "os.path.exists(DEFAULT_CLASSIFIER)"
   ]
  },
  {
   "cell_type": "code",
   "execution_count": 4,
   "metadata": {},
   "outputs": [
    {
     "name": "stdout",
     "output_type": "stream",
     "text": [
      "/Users/adebayobraimah/Desktop/projects/fmri_preproc/fmri_preproc/resources/classifiers/cchmc_neonate_MB3/cchmc_neonate_MB3.RData\n"
     ]
    }
   ],
   "source": [
    "print(DEFAULT_CLASSIFIER)"
   ]
  },
  {
   "cell_type": "markdown",
   "metadata": {},
   "source": [
    "# Debug no `noise` label file(s)\n",
    "------"
   ]
  },
  {
   "cell_type": "code",
   "execution_count": 1,
   "metadata": {},
   "outputs": [],
   "source": [
    "import sys\n",
    "import os\n",
    "_pkg_dir: str = \"/Users/adebayobraimah/Desktop/projects/fmri_preproc\"\n",
    "sys.path.append(_pkg_dir)"
   ]
  },
  {
   "cell_type": "code",
   "execution_count": 2,
   "metadata": {},
   "outputs": [],
   "source": [
    "from fmri_preproc.utils.fixlabels import loadLabelFile"
   ]
  },
  {
   "cell_type": "code",
   "execution_count": 8,
   "metadata": {},
   "outputs": [],
   "source": [
    "import numpy as np"
   ]
  },
  {
   "cell_type": "code",
   "execution_count": 38,
   "metadata": {},
   "outputs": [],
   "source": [
    "import pandas as pd"
   ]
  },
  {
   "cell_type": "code",
   "execution_count": 50,
   "metadata": {},
   "outputs": [],
   "source": [
    "fix_labels = '/Users/adebayobraimah/Desktop/projects/fmri_preproc/labels.bad.txt'\n",
    "# fix_labels = '/Users/adebayobraimah/Desktop/projects/fmri_preproc/labels.good.txt'"
   ]
  },
  {
   "cell_type": "code",
   "execution_count": 51,
   "metadata": {},
   "outputs": [],
   "source": [
    "noise_idx: str = loadLabelFile(filename=fix_labels, returnIndices=True)[2]"
   ]
  },
  {
   "cell_type": "code",
   "execution_count": 52,
   "metadata": {},
   "outputs": [
    {
     "data": {
      "text/plain": [
       "[]"
      ]
     },
     "execution_count": 52,
     "metadata": {},
     "output_type": "execute_result"
    }
   ],
   "source": [
    "noise_idx"
   ]
  },
  {
   "cell_type": "code",
   "execution_count": 53,
   "metadata": {},
   "outputs": [
    {
     "data": {
      "text/plain": [
       "array([], dtype=float64)"
      ]
     },
     "execution_count": 53,
     "metadata": {},
     "output_type": "execute_result"
    }
   ],
   "source": [
    "noise_idx = np.array(noise_idx) - 1\n",
    "noise_idx"
   ]
  },
  {
   "cell_type": "code",
   "execution_count": 69,
   "metadata": {},
   "outputs": [],
   "source": [
    "try:\n",
    "    mix = np.random.rand(50,300)[:, noise_idx]\n",
    "except IndexError:\n",
    "    mix = []\n",
    "# mix"
   ]
  },
  {
   "cell_type": "code",
   "execution_count": 70,
   "metadata": {},
   "outputs": [
    {
     "data": {
      "text/plain": [
       "[]"
      ]
     },
     "execution_count": 70,
     "metadata": {},
     "output_type": "execute_result"
    }
   ],
   "source": [
    "mix"
   ]
  },
  {
   "cell_type": "code",
   "execution_count": 66,
   "metadata": {},
   "outputs": [
    {
     "data": {
      "text/plain": [
       "array([], dtype=float64)"
      ]
     },
     "execution_count": 66,
     "metadata": {},
     "output_type": "execute_result"
    }
   ],
   "source": [
    "noise_idx"
   ]
  },
  {
   "cell_type": "code",
   "execution_count": 67,
   "metadata": {},
   "outputs": [],
   "source": [
    "df: pd.DataFrame = pd.DataFrame(data=mix, columns=[f'noise_{i}' for i in noise_idx])"
   ]
  },
  {
   "cell_type": "code",
   "execution_count": 71,
   "metadata": {},
   "outputs": [],
   "source": [
    "df.to_csv('tst.csv',sep='\\t',index=None)"
   ]
  },
  {
   "cell_type": "code",
   "execution_count": null,
   "metadata": {},
   "outputs": [],
   "source": []
  }
 ],
 "metadata": {
  "interpreter": {
   "hash": "d74d454bdf6082ff3aeb3787562ff7694dde8310e3a05412999967c1b6a37f8b"
  },
  "kernelspec": {
   "display_name": "Python 3.8.10 64-bit ('base': conda)",
   "name": "python3"
  },
  "language_info": {
   "codemirror_mode": {
    "name": "ipython",
    "version": 3
   },
   "file_extension": ".py",
   "mimetype": "text/x-python",
   "name": "python",
   "nbconvert_exporter": "python",
   "pygments_lexer": "ipython3",
   "version": "3.8.10"
  }
 },
 "nbformat": 4,
 "nbformat_minor": 5
}
