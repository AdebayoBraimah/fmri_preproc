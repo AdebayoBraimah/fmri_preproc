{
 "cells": [
  {
   "cell_type": "code",
   "execution_count": 20,
   "source": [
    "import os\n",
    "import sys"
   ],
   "outputs": [],
   "metadata": {}
  },
  {
   "cell_type": "code",
   "execution_count": 2,
   "source": [
    "_pkg_dir: str = \"/Users/adebayobraimah/Desktop/projects/fmri_preproc\""
   ],
   "outputs": [],
   "metadata": {}
  },
  {
   "cell_type": "code",
   "execution_count": 3,
   "source": [
    "sys.path.append(_pkg_dir)"
   ],
   "outputs": [],
   "metadata": {}
  },
  {
   "cell_type": "code",
   "execution_count": 4,
   "source": [
    "from fmri_preproc.utils import acqparam"
   ],
   "outputs": [],
   "metadata": {}
  },
  {
   "cell_type": "code",
   "execution_count": 45,
   "source": [
    "epi: str = \"/Users/adebayobraimah/Desktop/projects/fmri_preproc/data/sub-194/functional/sub-194/func/sub-194_task-rest_dir-PA_run-01_bold.nii.gz\""
   ],
   "outputs": [],
   "metadata": {}
  },
  {
   "cell_type": "code",
   "execution_count": 6,
   "source": [
    "acqparam._get_axis(epi,\"PA\")"
   ],
   "outputs": [
    {
     "output_type": "execute_result",
     "data": {
      "text/plain": [
       "('y', 1, 1)"
      ]
     },
     "metadata": {},
     "execution_count": 6
    }
   ],
   "metadata": {}
  },
  {
   "cell_type": "code",
   "execution_count": 7,
   "source": [
    "pe = \"PA,AP\""
   ],
   "outputs": [],
   "metadata": {}
  },
  {
   "cell_type": "code",
   "execution_count": 8,
   "source": [
    "pe = pe.split(\",\")"
   ],
   "outputs": [],
   "metadata": {}
  },
  {
   "cell_type": "code",
   "execution_count": 9,
   "source": [
    "import numpy as np"
   ],
   "outputs": [],
   "metadata": {}
  },
  {
   "cell_type": "code",
   "execution_count": 10,
   "source": [
    "np.zeros((len(pe), 4))"
   ],
   "outputs": [
    {
     "output_type": "execute_result",
     "data": {
      "text/plain": [
       "array([[0., 0., 0., 0.],\n",
       "       [0., 0., 0., 0.]])"
      ]
     },
     "metadata": {},
     "execution_count": 10
    }
   ],
   "metadata": {}
  },
  {
   "cell_type": "code",
   "execution_count": 11,
   "source": [
    "[''] * len(pe)"
   ],
   "outputs": [
    {
     "output_type": "execute_result",
     "data": {
      "text/plain": [
       "['', '']"
      ]
     },
     "metadata": {},
     "execution_count": 11
    }
   ],
   "metadata": {}
  },
  {
   "cell_type": "code",
   "execution_count": 12,
   "source": [
    "float('5.0000')"
   ],
   "outputs": [
    {
     "output_type": "execute_result",
     "data": {
      "text/plain": [
       "5.0"
      ]
     },
     "metadata": {},
     "execution_count": 12
    }
   ],
   "metadata": {}
  },
  {
   "cell_type": "code",
   "execution_count": 13,
   "source": [
    "pedict = acqparam.phase_encode_dict()"
   ],
   "outputs": [],
   "metadata": {}
  },
  {
   "cell_type": "code",
   "execution_count": 14,
   "source": [
    "pedict"
   ],
   "outputs": [
    {
     "output_type": "execute_result",
     "data": {
      "text/plain": [
       "{'x': (1, 'x'),\n",
       " 'y': (2, 'y'),\n",
       " 'z': (3, 'z'),\n",
       " '-x': (-1, 'x-'),\n",
       " '-y': (-2, 'y-'),\n",
       " '-z': (-3, 'z-'),\n",
       " 'x-': (-1, 'x-'),\n",
       " 'y-': (-2, 'y-'),\n",
       " 'z-': (-3, 'z-')}"
      ]
     },
     "metadata": {},
     "execution_count": 14
    }
   ],
   "metadata": {}
  },
  {
   "cell_type": "code",
   "execution_count": 15,
   "source": [
    "acqparam._get_axis(epi,\"PA\")[0]"
   ],
   "outputs": [
    {
     "output_type": "execute_result",
     "data": {
      "text/plain": [
       "'y'"
      ]
     },
     "metadata": {},
     "execution_count": 15
    }
   ],
   "metadata": {}
  },
  {
   "cell_type": "code",
   "execution_count": 20,
   "source": [
    "pedict['y']"
   ],
   "outputs": [
    {
     "output_type": "execute_result",
     "data": {
      "text/plain": [
       "(2, 'y')"
      ]
     },
     "metadata": {},
     "execution_count": 20
    }
   ],
   "metadata": {}
  },
  {
   "cell_type": "code",
   "execution_count": 38,
   "source": [
    "def func(s,e,f,j):\n",
    "    print(s,e,f,j)\n",
    "    return s,e,f,j\n",
    "# def func(**kwargs):\n",
    "#     print(kwargs)\n",
    "#     return kwargs"
   ],
   "outputs": [],
   "metadata": {}
  },
  {
   "cell_type": "code",
   "execution_count": 39,
   "source": [
    "d = {\"s\": 'start',\n",
    "     \"e\": 'end',\n",
    "     \"f\": 'finish'}"
   ],
   "outputs": [],
   "metadata": {}
  },
  {
   "cell_type": "code",
   "execution_count": 41,
   "source": [
    "func(**d,j='5')"
   ],
   "outputs": [
    {
     "output_type": "stream",
     "name": "stdout",
     "text": [
      "start end finish 5\n"
     ]
    },
    {
     "output_type": "execute_result",
     "data": {
      "text/plain": [
       "('start', 'end', 'finish', '5')"
      ]
     },
     "metadata": {},
     "execution_count": 41
    }
   ],
   "metadata": {}
  },
  {
   "cell_type": "code",
   "execution_count": 26,
   "source": [],
   "outputs": [
    {
     "output_type": "execute_result",
     "data": {
      "text/plain": [
       "{'s': 'start', 'e': 'end', 'f': 'finish'}"
      ]
     },
     "metadata": {},
     "execution_count": 26
    }
   ],
   "metadata": {}
  },
  {
   "cell_type": "code",
   "execution_count": 33,
   "source": [
    "def func(src: str):\n",
    "    print(src)"
   ],
   "outputs": [],
   "metadata": {}
  },
  {
   "cell_type": "code",
   "execution_count": 34,
   "source": [
    "d = {\"src\": \"f\"}"
   ],
   "outputs": [],
   "metadata": {}
  },
  {
   "cell_type": "code",
   "execution_count": 35,
   "source": [
    "func(**d)"
   ],
   "outputs": [
    {
     "output_type": "stream",
     "name": "stdout",
     "text": [
      "f\n"
     ]
    }
   ],
   "metadata": {}
  },
  {
   "cell_type": "code",
   "execution_count": 42,
   "source": [
    "import nibabel as nib"
   ],
   "outputs": [],
   "metadata": {}
  },
  {
   "cell_type": "code",
   "execution_count": 59,
   "source": [
    "epi: nib.Nifti1Image = nib.load(epi) # .header.get('dim','')[3]"
   ],
   "outputs": [],
   "metadata": {}
  },
  {
   "cell_type": "code",
   "execution_count": 47,
   "source": [
    "nib.load(epi).header.get('dim','')[4]"
   ],
   "outputs": [
    {
     "output_type": "execute_result",
     "data": {
      "text/plain": [
       "400"
      ]
     },
     "metadata": {},
     "execution_count": 47
    }
   ],
   "metadata": {}
  },
  {
   "cell_type": "code",
   "execution_count": 48,
   "source": [
    "from fmri_preproc.utils.acqparam import _get_axis, _get_orientation"
   ],
   "outputs": [],
   "metadata": {}
  },
  {
   "cell_type": "code",
   "execution_count": 53,
   "source": [],
   "outputs": [],
   "metadata": {}
  },
  {
   "cell_type": "code",
   "execution_count": 55,
   "source": [
    "(ax, axidx, axdir) = _get_axis(epi,'PA')"
   ],
   "outputs": [],
   "metadata": {}
  },
  {
   "cell_type": "code",
   "execution_count": 56,
   "source": [
    "axdir"
   ],
   "outputs": [
    {
     "output_type": "execute_result",
     "data": {
      "text/plain": [
       "1"
      ]
     },
     "metadata": {},
     "execution_count": 56
    }
   ],
   "metadata": {}
  },
  {
   "cell_type": "code",
   "execution_count": 57,
   "source": [
    "axidx"
   ],
   "outputs": [
    {
     "output_type": "execute_result",
     "data": {
      "text/plain": [
       "1"
      ]
     },
     "metadata": {},
     "execution_count": 57
    }
   ],
   "metadata": {}
  },
  {
   "cell_type": "code",
   "execution_count": 60,
   "source": [
    "epi.shape[axidx]"
   ],
   "outputs": [
    {
     "output_type": "execute_result",
     "data": {
      "text/plain": [
       "64"
      ]
     },
     "metadata": {},
     "execution_count": 60
    }
   ],
   "metadata": {}
  },
  {
   "cell_type": "code",
   "execution_count": 64,
   "source": [
    "epif = epi.shape[axidx]\n",
    "echospacing = 0.1\n",
    "inplane_acc = 1.0"
   ],
   "outputs": [],
   "metadata": {}
  },
  {
   "cell_type": "code",
   "execution_count": 65,
   "source": [
    "(epif - 1) * echospacing / inplane_acc"
   ],
   "outputs": [
    {
     "output_type": "execute_result",
     "data": {
      "text/plain": [
       "6.300000000000001"
      ]
     },
     "metadata": {},
     "execution_count": 65
    }
   ],
   "metadata": {}
  },
  {
   "cell_type": "code",
   "execution_count": 1,
   "source": [
    "import sys\n",
    "_pkg_dir: str = \"/Users/adebayobraimah/Desktop/projects/fmri_preproc\"\n",
    "sys.path.append(_pkg_dir)\n",
    "from fmri_preproc.utils.logutil import LogFile"
   ],
   "outputs": [],
   "metadata": {}
  },
  {
   "cell_type": "code",
   "execution_count": 2,
   "source": [
    "j = LogFile(\"test.log\",print_to_screen=False)"
   ],
   "outputs": [],
   "metadata": {}
  },
  {
   "cell_type": "code",
   "execution_count": 3,
   "source": [
    "j.info(\"Test\")\n",
    "j.info(\"Test\",use_header=True)"
   ],
   "outputs": [],
   "metadata": {}
  },
  {
   "cell_type": "code",
   "execution_count": 4,
   "source": [
    "j.info(\"Test\")"
   ],
   "outputs": [],
   "metadata": {}
  },
  {
   "cell_type": "code",
   "execution_count": 28,
   "source": [
    "T = 3\n",
    "wfs = 19\n",
    "wfsHz = T * 3.35 * 42.576\n",
    "# wfsHz = 435"
   ],
   "outputs": [],
   "metadata": {}
  },
  {
   "cell_type": "code",
   "execution_count": 48,
   "source": [
    "# echospacing = 1000 * (wfs/wfsHz)\n",
    "# 18.998/22.9\n",
    "# echospacing = 0.1\n",
    "echospacing"
   ],
   "outputs": [
    {
     "output_type": "execute_result",
     "data": {
      "text/plain": [
       "0.1"
      ]
     },
     "metadata": {},
     "execution_count": 48
    }
   ],
   "metadata": {}
  },
  {
   "cell_type": "code",
   "execution_count": 54,
   "source": [
    "epif = 63\n",
    "inplane_acc = 1"
   ],
   "outputs": [],
   "metadata": {}
  },
  {
   "cell_type": "code",
   "execution_count": 55,
   "source": [
    "(epif - 1) * echospacing / inplane_acc"
   ],
   "outputs": [
    {
     "output_type": "execute_result",
     "data": {
      "text/plain": [
       "33.61344537815126"
      ]
     },
     "metadata": {},
     "execution_count": 55
    }
   ],
   "metadata": {}
  },
  {
   "cell_type": "code",
   "execution_count": null,
   "source": [],
   "outputs": [],
   "metadata": {}
  },
  {
   "cell_type": "markdown",
   "source": [
    "# Functional `echospacing`\n",
    "------          \n",
    "\n",
    "`echospacing` was computed by using the `BW in EPI freq. dir. (Hz)` value from the scanner parameter file (which was equal to `1844.5`). This value should be analogous to the `BandwithPerPixel` value of Siemens scanners."
   ],
   "metadata": {}
  },
  {
   "cell_type": "code",
   "execution_count": 2,
   "source": [
    "echospacing = 1/1844.5 * 1000\n",
    "echospacing"
   ],
   "outputs": [
    {
     "output_type": "execute_result",
     "data": {
      "text/plain": [
       "0.5421523448088913"
      ]
     },
     "metadata": {},
     "execution_count": 2
    }
   ],
   "metadata": {}
  },
  {
   "cell_type": "code",
   "execution_count": 5,
   "source": [
    "from datetime import datetime"
   ],
   "outputs": [],
   "metadata": {}
  },
  {
   "cell_type": "code",
   "execution_count": 10,
   "source": [
    "datetime.now()"
   ],
   "outputs": [
    {
     "output_type": "execute_result",
     "data": {
      "text/plain": [
       "datetime.datetime(2021, 8, 23, 13, 36, 26, 17013)"
      ]
     },
     "metadata": {},
     "execution_count": 10
    }
   ],
   "metadata": {}
  },
  {
   "cell_type": "code",
   "execution_count": 17,
   "source": [
    "from fmri_preproc.utils.enums import BBRType"
   ],
   "outputs": [],
   "metadata": {}
  },
  {
   "cell_type": "code",
   "execution_count": 2,
   "source": [
    "from fmri_preproc.utils.enums import PhaseEncodeDirection"
   ],
   "outputs": [],
   "metadata": {}
  },
  {
   "cell_type": "code",
   "execution_count": 28,
   "source": [
    "from fmri_preproc.utils.enums import SegType"
   ],
   "outputs": [],
   "metadata": {}
  },
  {
   "cell_type": "code",
   "execution_count": 3,
   "source": [
    "from fmri_preproc.utils.enums import LogLevel"
   ],
   "outputs": [],
   "metadata": {}
  },
  {
   "cell_type": "code",
   "execution_count": 6,
   "source": [
    "PhaseEncodeDirection('pa'.upper()).name"
   ],
   "outputs": [
    {
     "output_type": "execute_result",
     "data": {
      "text/plain": [
       "'PA'"
      ]
     },
     "metadata": {},
     "execution_count": 6
    }
   ],
   "metadata": {}
  },
  {
   "cell_type": "code",
   "execution_count": 17,
   "source": [
    "pedir = \"PA,AP,LR,RL,IS,SI,ku\"\n",
    "pedir = pedir.lower()\n",
    "pedir"
   ],
   "outputs": [
    {
     "output_type": "execute_result",
     "data": {
      "text/plain": [
       "'pa,ap,lr,rl,is,si,ku'"
      ]
     },
     "metadata": {},
     "execution_count": 17
    }
   ],
   "metadata": {}
  },
  {
   "cell_type": "code",
   "execution_count": 18,
   "source": [
    "pedir = pedir.split(\",\")\n",
    "pedir"
   ],
   "outputs": [
    {
     "output_type": "execute_result",
     "data": {
      "text/plain": [
       "['pa', 'ap', 'lr', 'rl', 'is', 'si', 'ku']"
      ]
     },
     "metadata": {},
     "execution_count": 18
    }
   ],
   "metadata": {}
  },
  {
   "cell_type": "code",
   "execution_count": 19,
   "source": [
    "pedir = [ PhaseEncodeDirection(x.upper()).name for x in pedir ]"
   ],
   "outputs": [
    {
     "output_type": "error",
     "ename": "ValueError",
     "evalue": "'KU' is not a valid PhaseEncodeDirection",
     "traceback": [
      "\u001b[0;31m---------------------------------------------------------------------------\u001b[0m",
      "\u001b[0;31mValueError\u001b[0m                                Traceback (most recent call last)",
      "\u001b[0;32m<ipython-input-19-5074e66e948e>\u001b[0m in \u001b[0;36m<module>\u001b[0;34m\u001b[0m\n\u001b[0;32m----> 1\u001b[0;31m \u001b[0mpedir\u001b[0m \u001b[0;34m=\u001b[0m \u001b[0;34m[\u001b[0m \u001b[0mPhaseEncodeDirection\u001b[0m\u001b[0;34m(\u001b[0m\u001b[0mx\u001b[0m\u001b[0;34m.\u001b[0m\u001b[0mupper\u001b[0m\u001b[0;34m(\u001b[0m\u001b[0;34m)\u001b[0m\u001b[0;34m)\u001b[0m\u001b[0;34m.\u001b[0m\u001b[0mname\u001b[0m \u001b[0;32mfor\u001b[0m \u001b[0mx\u001b[0m \u001b[0;32min\u001b[0m \u001b[0mpedir\u001b[0m  \u001b[0;34m]\u001b[0m\u001b[0;34m\u001b[0m\u001b[0;34m\u001b[0m\u001b[0m\n\u001b[0m",
      "\u001b[0;32m<ipython-input-19-5074e66e948e>\u001b[0m in \u001b[0;36m<listcomp>\u001b[0;34m(.0)\u001b[0m\n\u001b[0;32m----> 1\u001b[0;31m \u001b[0mpedir\u001b[0m \u001b[0;34m=\u001b[0m \u001b[0;34m[\u001b[0m \u001b[0mPhaseEncodeDirection\u001b[0m\u001b[0;34m(\u001b[0m\u001b[0mx\u001b[0m\u001b[0;34m.\u001b[0m\u001b[0mupper\u001b[0m\u001b[0;34m(\u001b[0m\u001b[0;34m)\u001b[0m\u001b[0;34m)\u001b[0m\u001b[0;34m.\u001b[0m\u001b[0mname\u001b[0m \u001b[0;32mfor\u001b[0m \u001b[0mx\u001b[0m \u001b[0;32min\u001b[0m \u001b[0mpedir\u001b[0m  \u001b[0;34m]\u001b[0m\u001b[0;34m\u001b[0m\u001b[0;34m\u001b[0m\u001b[0m\n\u001b[0m",
      "\u001b[0;32m~/anaconda3/lib/python3.8/enum.py\u001b[0m in \u001b[0;36m__call__\u001b[0;34m(cls, value, names, module, qualname, type, start)\u001b[0m\n\u001b[1;32m    337\u001b[0m         \"\"\"\n\u001b[1;32m    338\u001b[0m         \u001b[0;32mif\u001b[0m \u001b[0mnames\u001b[0m \u001b[0;32mis\u001b[0m \u001b[0;32mNone\u001b[0m\u001b[0;34m:\u001b[0m  \u001b[0;31m# simple value lookup\u001b[0m\u001b[0;34m\u001b[0m\u001b[0;34m\u001b[0m\u001b[0m\n\u001b[0;32m--> 339\u001b[0;31m             \u001b[0;32mreturn\u001b[0m \u001b[0mcls\u001b[0m\u001b[0;34m.\u001b[0m\u001b[0m__new__\u001b[0m\u001b[0;34m(\u001b[0m\u001b[0mcls\u001b[0m\u001b[0;34m,\u001b[0m \u001b[0mvalue\u001b[0m\u001b[0;34m)\u001b[0m\u001b[0;34m\u001b[0m\u001b[0;34m\u001b[0m\u001b[0m\n\u001b[0m\u001b[1;32m    340\u001b[0m         \u001b[0;31m# otherwise, functional API: we're creating a new Enum type\u001b[0m\u001b[0;34m\u001b[0m\u001b[0;34m\u001b[0m\u001b[0;34m\u001b[0m\u001b[0m\n\u001b[1;32m    341\u001b[0m         return cls._create_(\n",
      "\u001b[0;32m~/anaconda3/lib/python3.8/enum.py\u001b[0m in \u001b[0;36m__new__\u001b[0;34m(cls, value)\u001b[0m\n\u001b[1;32m    661\u001b[0m                 \u001b[0mve_exc\u001b[0m \u001b[0;34m=\u001b[0m \u001b[0mValueError\u001b[0m\u001b[0;34m(\u001b[0m\u001b[0;34m\"%r is not a valid %s\"\u001b[0m \u001b[0;34m%\u001b[0m \u001b[0;34m(\u001b[0m\u001b[0mvalue\u001b[0m\u001b[0;34m,\u001b[0m \u001b[0mcls\u001b[0m\u001b[0;34m.\u001b[0m\u001b[0m__name__\u001b[0m\u001b[0;34m)\u001b[0m\u001b[0;34m)\u001b[0m\u001b[0;34m\u001b[0m\u001b[0;34m\u001b[0m\u001b[0m\n\u001b[1;32m    662\u001b[0m                 \u001b[0;32mif\u001b[0m \u001b[0mresult\u001b[0m \u001b[0;32mis\u001b[0m \u001b[0;32mNone\u001b[0m \u001b[0;32mand\u001b[0m \u001b[0mexc\u001b[0m \u001b[0;32mis\u001b[0m \u001b[0;32mNone\u001b[0m\u001b[0;34m:\u001b[0m\u001b[0;34m\u001b[0m\u001b[0;34m\u001b[0m\u001b[0m\n\u001b[0;32m--> 663\u001b[0;31m                     \u001b[0;32mraise\u001b[0m \u001b[0mve_exc\u001b[0m\u001b[0;34m\u001b[0m\u001b[0;34m\u001b[0m\u001b[0m\n\u001b[0m\u001b[1;32m    664\u001b[0m                 \u001b[0;32melif\u001b[0m \u001b[0mexc\u001b[0m \u001b[0;32mis\u001b[0m \u001b[0;32mNone\u001b[0m\u001b[0;34m:\u001b[0m\u001b[0;34m\u001b[0m\u001b[0;34m\u001b[0m\u001b[0m\n\u001b[1;32m    665\u001b[0m                     exc = TypeError(\n",
      "\u001b[0;31mValueError\u001b[0m: 'KU' is not a valid PhaseEncodeDirection"
     ]
    }
   ],
   "metadata": {}
  },
  {
   "cell_type": "code",
   "execution_count": 16,
   "source": [
    "pedir"
   ],
   "outputs": [
    {
     "output_type": "execute_result",
     "data": {
      "text/plain": [
       "['PA', 'AP', 'LR', 'RL', 'IS', 'SI']"
      ]
     },
     "metadata": {},
     "execution_count": 16
    }
   ],
   "metadata": {}
  },
  {
   "cell_type": "code",
   "execution_count": null,
   "source": [],
   "outputs": [],
   "metadata": {}
  },
  {
   "cell_type": "markdown",
   "source": [
    "## Test timing `decorator`"
   ],
   "metadata": {}
  },
  {
   "cell_type": "code",
   "execution_count": 1,
   "source": [
    "import sys\n",
    "_pkg_dir: str = \"/Users/adebayobraimah/Desktop/projects/fmri_preproc\"\n",
    "sys.path.append(_pkg_dir)"
   ],
   "outputs": [],
   "metadata": {}
  },
  {
   "cell_type": "code",
   "execution_count": 2,
   "source": [
    "from fmri_preproc.utils.util import timeops\n",
    "from fmri_preproc.utils.logutil import LogFile"
   ],
   "outputs": [],
   "metadata": {}
  },
  {
   "cell_type": "code",
   "execution_count": 3,
   "source": [
    "log = LogFile('test.1.log', use_root_logger=False)"
   ],
   "outputs": [],
   "metadata": {}
  },
  {
   "cell_type": "code",
   "execution_count": 4,
   "source": [
    "log.log(\"BEGIN: Test\",use_header=True)"
   ],
   "outputs": [],
   "metadata": {}
  },
  {
   "cell_type": "code",
   "execution_count": 5,
   "source": [
    "log.log(\"Some test function\")"
   ],
   "outputs": [],
   "metadata": {}
  },
  {
   "cell_type": "code",
   "execution_count": 6,
   "source": [
    "@timeops(log)\n",
    "def test_func(s: str, log: LogFile):\n",
    "    print(s)\n",
    "    log.log(f\"func str: {s}\")\n",
    "    return None"
   ],
   "outputs": [],
   "metadata": {}
  },
  {
   "cell_type": "code",
   "execution_count": 7,
   "source": [
    "test_func(\"This is my string\",log)"
   ],
   "outputs": [
    {
     "output_type": "stream",
     "name": "stdout",
     "text": [
      "This is my string\n"
     ]
    }
   ],
   "metadata": {}
  },
  {
   "cell_type": "code",
   "execution_count": 4,
   "source": [
    "# log.logger.exception()"
   ],
   "outputs": [],
   "metadata": {}
  },
  {
   "cell_type": "code",
   "execution_count": 4,
   "source": [
    "log = LogFile('test.1.log', format_log_str=True, level='info')"
   ],
   "outputs": [],
   "metadata": {}
  },
  {
   "cell_type": "code",
   "execution_count": 5,
   "source": [
    "log.log(\"Yay!\")"
   ],
   "outputs": [],
   "metadata": {}
  },
  {
   "cell_type": "code",
   "execution_count": 6,
   "source": [
    "log.log(\"Hmm\")"
   ],
   "outputs": [],
   "metadata": {}
  },
  {
   "cell_type": "code",
   "execution_count": 1,
   "source": [
    "import sys\n",
    "_pkg_dir: str = \"/Users/adebayobraimah/Desktop/projects/fmri_preproc\"\n",
    "sys.path.append(_pkg_dir)"
   ],
   "outputs": [],
   "metadata": {}
  },
  {
   "cell_type": "code",
   "execution_count": 2,
   "source": [
    "from fmri_preproc.func.importdata import testfunc\n",
    "from fmri_preproc.utils.logutil import LogFile"
   ],
   "outputs": [],
   "metadata": {}
  },
  {
   "cell_type": "code",
   "execution_count": 3,
   "source": [
    "log = LogFile('test.file1.log',format_log_str=True)"
   ],
   "outputs": [],
   "metadata": {}
  },
  {
   "cell_type": "code",
   "execution_count": 4,
   "source": [
    "log.log(\"Does this work?\", use_header=True)"
   ],
   "outputs": [],
   "metadata": {}
  },
  {
   "cell_type": "code",
   "execution_count": 5,
   "source": [
    "testfunc(\"my string\",log)"
   ],
   "outputs": [
    {
     "output_type": "execute_result",
     "data": {
      "text/plain": [
       "'my string'"
      ]
     },
     "metadata": {},
     "execution_count": 5
    }
   ],
   "metadata": {}
  },
  {
   "cell_type": "markdown",
   "source": [
    "# Get BIDS `run` number from input func file name"
   ],
   "metadata": {}
  },
  {
   "cell_type": "code",
   "execution_count": 1,
   "source": [
    "import sys\n",
    "_pkg_dir: str = \"/Users/adebayobraimah/Desktop/projects/fmri_preproc\"\n",
    "sys.path.append(_pkg_dir)"
   ],
   "outputs": [],
   "metadata": {}
  },
  {
   "cell_type": "code",
   "execution_count": 2,
   "source": [
    "from fmri_preproc.utils.fileio import File, NiiFile"
   ],
   "outputs": [],
   "metadata": {}
  },
  {
   "cell_type": "code",
   "execution_count": 3,
   "source": [
    "nii = \"/Users/adebayobraimah/Desktop/projects/fmri_preproc/data/sub-194/functional/sub-194/func/sub-194_task-rest_dir-PA_run-01_bold.nii.gz\""
   ],
   "outputs": [],
   "metadata": {}
  },
  {
   "cell_type": "code",
   "execution_count": 4,
   "source": [
    "with NiiFile(src=nii, assert_exists=True, validate_nifti=True) as n:\n",
    "    dirname, fname, _ = n.file_parts()"
   ],
   "outputs": [],
   "metadata": {}
  },
  {
   "cell_type": "code",
   "execution_count": 5,
   "source": [
    "fname"
   ],
   "outputs": [
    {
     "output_type": "execute_result",
     "data": {
      "text/plain": [
       "'sub-194_task-rest_dir-PA_run-01_bold'"
      ]
     },
     "metadata": {},
     "execution_count": 5
    }
   ],
   "metadata": {}
  },
  {
   "cell_type": "code",
   "execution_count": 8,
   "source": [
    "fname.split('_')"
   ],
   "outputs": [
    {
     "output_type": "execute_result",
     "data": {
      "text/plain": [
       "['sub-194', 'task-rest', 'dir-PA', 'run-01', 'bold']"
      ]
     },
     "metadata": {},
     "execution_count": 8
    }
   ],
   "metadata": {}
  },
  {
   "cell_type": "code",
   "execution_count": 9,
   "source": [
    "'run' in fname.split('_')"
   ],
   "outputs": [
    {
     "output_type": "execute_result",
     "data": {
      "text/plain": [
       "False"
      ]
     },
     "metadata": {},
     "execution_count": 9
    }
   ],
   "metadata": {}
  },
  {
   "cell_type": "code",
   "execution_count": 10,
   "source": [
    "len(fname.split('_'))"
   ],
   "outputs": [
    {
     "output_type": "execute_result",
     "data": {
      "text/plain": [
       "5"
      ]
     },
     "metadata": {},
     "execution_count": 10
    }
   ],
   "metadata": {}
  },
  {
   "cell_type": "code",
   "execution_count": 14,
   "source": [
    "for i in fname.split('_'):\n",
    "    if 'run' in i:\n",
    "        print(i[4:])"
   ],
   "outputs": [
    {
     "output_type": "stream",
     "name": "stdout",
     "text": [
      "01\n"
     ]
    }
   ],
   "metadata": {}
  },
  {
   "cell_type": "code",
   "execution_count": 1,
   "source": [
    "import sys\n",
    "import os\n",
    "_pkg_dir: str = \"/Users/adebayobraimah/Desktop/projects/fmri_preproc\"\n",
    "sys.path.append(_pkg_dir)"
   ],
   "outputs": [],
   "metadata": {}
  },
  {
   "cell_type": "code",
   "execution_count": 2,
   "source": [
    "from fmri_preproc.utils.fileio import File, NiiFile\n",
    "from fmri_preproc.utils.tempdir import TmpDir\n",
    "from fmri_preproc.utils.workdir import WorkDir\n",
    "from fmri_preproc.func.registration import _select_atlas"
   ],
   "outputs": [],
   "metadata": {}
  },
  {
   "cell_type": "code",
   "execution_count": 3,
   "source": [
    "test_file = '/Users/adebayobraimah/Desktop/projects/fmri_preproc/README.md'"
   ],
   "outputs": [],
   "metadata": {}
  },
  {
   "cell_type": "code",
   "execution_count": 6,
   "source": [
    "with File(src=test_file, assert_exists=True) as f:\n",
    "    # print(f.abspath())\n",
    "    print(f)"
   ],
   "outputs": [
    {
     "output_type": "stream",
     "name": "stdout",
     "text": [
      "<File /Users/adebayobraimah/Desktop/projects/fmri_preproc/README.md>\n"
     ]
    }
   ],
   "metadata": {}
  },
  {
   "cell_type": "code",
   "execution_count": 9,
   "source": [
    "f = File(src=test_file, assert_exists=True)"
   ],
   "outputs": [],
   "metadata": {}
  },
  {
   "cell_type": "code",
   "execution_count": 9,
   "source": [
    "type(f.src)"
   ],
   "outputs": [
    {
     "output_type": "execute_result",
     "data": {
      "text/plain": [
       "str"
      ]
     },
     "metadata": {},
     "execution_count": 9
    }
   ],
   "metadata": {}
  },
  {
   "cell_type": "code",
   "execution_count": 12,
   "source": [
    "# with TmpDir(src='test.tmp') as tmp:\n",
    "with TmpDir(src=os.getcwd()) as tmp:\n",
    "    with File(src=os.path.join(tmp.src,\"test.tmp.txt\")) as f:\n",
    "        f.touch()\n",
    "        print(f)\n",
    "        print(tmp.src)"
   ],
   "outputs": [
    {
     "output_type": "stream",
     "name": "stdout",
     "text": [
      "<File /Users/adebayobraimah/Desktop/projects/fmri_preproc/fmri_preproc/utils/tmp_dir_4931/test.tmp.txt>\n",
      "/Users/adebayobraimah/Desktop/projects/fmri_preproc/fmri_preproc/utils/tmp_dir_4931\n"
     ]
    }
   ],
   "metadata": {}
  },
  {
   "cell_type": "code",
   "execution_count": 10,
   "source": [
    "os.path.join\n",
    "os.path.split(test_file)"
   ],
   "outputs": [
    {
     "output_type": "execute_result",
     "data": {
      "text/plain": [
       "('/Users/adebayobraimah/Desktop/projects/fmri_preproc', 'README.md')"
      ]
     },
     "metadata": {},
     "execution_count": 10
    }
   ],
   "metadata": {}
  },
  {
   "cell_type": "code",
   "execution_count": 4,
   "source": [
    "with WorkDir(src=\"test\") as test:\n",
    "    # print(test.join(\"new\",\"file\",\"place\"))\n",
    "    n = test.join(\"new\",\"file\",\"place\")\n",
    "    with WorkDir(src=n) as nn:\n",
    "        print(nn.abspath())"
   ],
   "outputs": [
    {
     "output_type": "stream",
     "name": "stdout",
     "text": [
      "/Users/adebayobraimah/Desktop/projects/fmri_preproc/fmri_preproc/utils/test/new/file/place\n"
     ]
    }
   ],
   "metadata": {}
  },
  {
   "cell_type": "code",
   "execution_count": 3,
   "source": [
    "# atlasdir: str = \"/Users/adebayobraimah/Desktop/projects/fmri_preproc/atlas\"\n",
    "atlasdir: str = \"/Users/adebayobraimah/Desktop/projects/fmri_preproc/UNCInfant012Atlases-2020-08-27\""
   ],
   "outputs": [],
   "metadata": {}
  },
  {
   "cell_type": "code",
   "execution_count": 4,
   "source": [
    "_select_atlas(atlasdir, 'neonate')"
   ],
   "outputs": [
    {
     "output_type": "execute_result",
     "data": {
      "text/plain": [
       "{'template_T1': None,\n",
       " 'template_T2': 'infant-neo.nii.gz',\n",
       " 'gm_prob': '/Users/adebayobraimah/Desktop/projects/fmri_preproc/UNCInfant012Atlases-2020-08-27/templates/infant-neo-seg-gm.nii.gz',\n",
       " 'wm_prob': '/Users/adebayobraimah/Desktop/projects/fmri_preproc/UNCInfant012Atlases-2020-08-27/templates/infant-neo-seg-wm.nii.gz',\n",
       " 'seg': None,\n",
       " 'probseg': None}"
      ]
     },
     "metadata": {},
     "execution_count": 4
    }
   ],
   "metadata": {}
  },
  {
   "cell_type": "code",
   "execution_count": 1,
   "source": [
    "import sys\n",
    "import os\n",
    "_pkg_dir: str = \"/Users/adebayobraimah/Desktop/projects/fmri_preproc\"\n",
    "sys.path.append(_pkg_dir)"
   ],
   "outputs": [],
   "metadata": {}
  },
  {
   "cell_type": "code",
   "execution_count": 2,
   "source": [
    "import glob"
   ],
   "outputs": [],
   "metadata": {}
  },
  {
   "cell_type": "code",
   "execution_count": 3,
   "source": [
    "from fmri_preproc import __version__ as version"
   ],
   "outputs": [],
   "metadata": {}
  },
  {
   "cell_type": "code",
   "execution_count": 4,
   "source": [
    "version"
   ],
   "outputs": [
    {
     "output_type": "execute_result",
     "data": {
      "text/plain": [
       "'0.0.1a'"
      ]
     },
     "metadata": {},
     "execution_count": 4
    }
   ],
   "metadata": {}
  },
  {
   "cell_type": "code",
   "execution_count": 5,
   "source": [
    "from fmri_preproc.func.registration import ATLASDIR"
   ],
   "outputs": [],
   "metadata": {}
  },
  {
   "cell_type": "code",
   "execution_count": 6,
   "source": [
    "ATLASDIR"
   ],
   "outputs": [
    {
     "output_type": "execute_result",
     "data": {
      "text/plain": [
       "'/Users/adebayobraimah/Desktop/projects/fmri_preproc/fmri_preproc/resources/atlases'"
      ]
     },
     "metadata": {},
     "execution_count": 6
    }
   ],
   "metadata": {}
  },
  {
   "cell_type": "code",
   "execution_count": 4,
   "source": [
    "from fmri_preproc.func.registration import _select_atlas"
   ],
   "outputs": [],
   "metadata": {}
  },
  {
   "cell_type": "code",
   "execution_count": 5,
   "source": [
    "_select_atlas(age=1)"
   ],
   "outputs": [
    {
     "output_type": "execute_result",
     "data": {
      "text/plain": [
       "{'template_T1': None,\n",
       " 'template_T2': 'infant-1yr.nii.gz',\n",
       " 'gm_prob': '/Users/adebayobraimah/Desktop/projects/fmri_preproc/fmri_preproc/resources/atlases/UNCInfant012Atlases-2020-08-27/templates/infant-1yr-seg-gm.nii.gz',\n",
       " 'wm_prob': '/Users/adebayobraimah/Desktop/projects/fmri_preproc/fmri_preproc/resources/atlases/UNCInfant012Atlases-2020-08-27/templates/infant-1yr-seg-wm.nii.gz',\n",
       " 'seg': '/Users/adebayobraimah/Desktop/projects/fmri_preproc/fmri_preproc/resources/atlases/UNCInfant012Atlases-2020-08-27/templates/infant-1yr-seg.nii.gz',\n",
       " 'prob': '/Users/adebayobraimah/Desktop/projects/fmri_preproc/fmri_preproc/resources/atlases/UNCInfant012Atlases-2020-08-27/templates/infant-1yr-avgseg.nii.gz',\n",
       " 'atlas_name': 'UNCAAL',\n",
       " 'atlas_age': '1yr',\n",
       " 'xfm': None,\n",
       " 'invxfm': ''}"
      ]
     },
     "metadata": {},
     "execution_count": 5
    }
   ],
   "metadata": {}
  },
  {
   "cell_type": "code",
   "execution_count": 20,
   "source": [
    "atlasdir: str = ' '.join(map(str, glob.glob(os.path.join(ATLASDIR,\"UNC*2020*\"))))"
   ],
   "outputs": [],
   "metadata": {}
  },
  {
   "cell_type": "code",
   "execution_count": 21,
   "source": [
    "atlasdir = ' '.join(map(str, glob.glob(os.path.join(ATLASDIR,\"dHCPatlas\"))))"
   ],
   "outputs": [],
   "metadata": {}
  },
  {
   "cell_type": "code",
   "execution_count": 21,
   "source": [
    "type(atlasdir)"
   ],
   "outputs": [
    {
     "output_type": "execute_result",
     "data": {
      "text/plain": [
       "str"
      ]
     },
     "metadata": {},
     "execution_count": 21
    }
   ],
   "metadata": {}
  },
  {
   "cell_type": "code",
   "execution_count": 15,
   "source": [
    "age = 43"
   ],
   "outputs": [],
   "metadata": {}
  },
  {
   "cell_type": "code",
   "execution_count": 16,
   "source": [
    "(28 < age) and (age < 44)"
   ],
   "outputs": [
    {
     "output_type": "execute_result",
     "data": {
      "text/plain": [
       "True"
      ]
     },
     "metadata": {},
     "execution_count": 16
    }
   ],
   "metadata": {}
  },
  {
   "cell_type": "code",
   "execution_count": 22,
   "source": [
    "'dHCPatlas' in atlasdir"
   ],
   "outputs": [
    {
     "output_type": "execute_result",
     "data": {
      "text/plain": [
       "True"
      ]
     },
     "metadata": {},
     "execution_count": 22
    }
   ],
   "metadata": {}
  },
  {
   "cell_type": "code",
   "execution_count": 14,
   "source": [
    "from fmri_preproc.utils.workdir import WorkDir\n",
    "from fmri_preproc.utils.fileio import File"
   ],
   "outputs": [],
   "metadata": {}
  },
  {
   "cell_type": "code",
   "execution_count": 12,
   "source": [
    "out = 'test.ants/output_'"
   ],
   "outputs": [],
   "metadata": {}
  },
  {
   "cell_type": "code",
   "execution_count": 13,
   "source": [
    "with WorkDir(src=out) as o:\n",
    "    print(o.abspath())"
   ],
   "outputs": [
    {
     "output_type": "stream",
     "name": "stdout",
     "text": [
      "/Users/adebayobraimah/Desktop/projects/fmri_preproc/fmri_preproc/utils/test.ants/output_\n"
     ]
    }
   ],
   "metadata": {}
  },
  {
   "cell_type": "code",
   "execution_count": 16,
   "source": [
    "with File(src=out) as o:\n",
    "    print(o.file_parts())"
   ],
   "outputs": [
    {
     "output_type": "stream",
     "name": "stdout",
     "text": [
      "('/Users/adebayobraimah/Desktop/projects/fmri_preproc/fmri_preproc/utils/test.ants', 'output_', '')\n"
     ]
    }
   ],
   "metadata": {}
  },
  {
   "cell_type": "code",
   "execution_count": 17,
   "source": [
    "with File(src=os.getcwd()) as o:\n",
    "    print(o.file_parts())"
   ],
   "outputs": [
    {
     "output_type": "stream",
     "name": "stdout",
     "text": [
      "('/Users/adebayobraimah/Desktop/projects/fmri_preproc/fmri_preproc', 'utils', '')\n"
     ]
    }
   ],
   "metadata": {}
  },
  {
   "cell_type": "code",
   "execution_count": 1,
   "source": [
    "import sys\n",
    "import os\n",
    "_pkg_dir: str = \"/Users/adebayobraimah/Desktop/projects/fmri_preproc\"\n",
    "sys.path.append(_pkg_dir)"
   ],
   "outputs": [],
   "metadata": {}
  },
  {
   "cell_type": "code",
   "execution_count": 2,
   "source": [
    "from fmri_preproc.utils.outputs.importdata import ImportFunc"
   ],
   "outputs": [],
   "metadata": {}
  },
  {
   "cell_type": "code",
   "execution_count": 3,
   "source": [
    "out_func = ImportFunc(outdir='test.1')"
   ],
   "outputs": [],
   "metadata": {}
  },
  {
   "cell_type": "code",
   "execution_count": 4,
   "source": [
    "out_func.outputs()"
   ],
   "outputs": [
    {
     "output_type": "execute_result",
     "data": {
      "text/plain": [
       "{'func': '/Users/adebayobraimah/Desktop/projects/fmri_preproc/fmri_preproc/utils/test.1/func.nii.gz',\n",
       " 'func_mean': '/Users/adebayobraimah/Desktop/projects/fmri_preproc/fmri_preproc/utils/test.1/func_mean.nii.gz',\n",
       " 'func_brainmask': '/Users/adebayobraimah/Desktop/projects/fmri_preproc/fmri_preproc/utils/test.1/func_brainmask.nii.gz',\n",
       " 'func_slorder': '/Users/adebayobraimah/Desktop/projects/fmri_preproc/fmri_preproc/utils/test.1/func.slorder',\n",
       " 'sbref': '/Users/adebayobraimah/Desktop/projects/fmri_preproc/fmri_preproc/utils/test.1/sbref.nii.gz',\n",
       " 'sbref_brainmask': '/Users/adebayobraimah/Desktop/projects/fmri_preproc/fmri_preproc/utils/test.1/sbref_brainmask.nii.gz',\n",
       " 'func_std': '/Users/adebayobraimah/Desktop/projects/fmri_preproc/fmri_preproc/utils/test.1/func_std.nii.gz',\n",
       " 'func_tsnr': '/Users/adebayobraimah/Desktop/projects/fmri_preproc/fmri_preproc/utils/test.1/func_tsnr.nii.gz',\n",
       " 'func0': '/Users/adebayobraimah/Desktop/projects/fmri_preproc/fmri_preproc/utils/test.1/func0.nii.gz',\n",
       " 'func_dil_brainmask': '/Users/adebayobraimah/Desktop/projects/fmri_preproc/fmri_preproc/utils/test.1/func_dilated_brainmask.nii.gz',\n",
       " 'func_metrics': '/Users/adebayobraimah/Desktop/projects/fmri_preproc/fmri_preproc/utils/test.1/func_regressors.tsv',\n",
       " 'func_out_plot': '/Users/adebayobraimah/Desktop/projects/fmri_preproc/fmri_preproc/utils/test.1/func_outliers.png'}"
      ]
     },
     "metadata": {},
     "execution_count": 4
    }
   ],
   "metadata": {}
  },
  {
   "cell_type": "code",
   "execution_count": 8,
   "source": [
    "out_func.check_exists('func')"
   ],
   "outputs": [
    {
     "output_type": "execute_result",
     "data": {
      "text/plain": [
       "False"
      ]
     },
     "metadata": {},
     "execution_count": 8
    }
   ],
   "metadata": {}
  },
  {
   "cell_type": "code",
   "execution_count": 3,
   "source": [
    "import sys\n",
    "import os\n",
    "_pkg_dir: str = \"/Users/adebayobraimah/Desktop/projects/fmri_preproc\"\n",
    "sys.path.append(_pkg_dir)"
   ],
   "outputs": [],
   "metadata": {}
  },
  {
   "cell_type": "code",
   "execution_count": 4,
   "source": [
    "from fmri_preproc.utils.outputs.registration import MRreg"
   ],
   "outputs": [],
   "metadata": {}
  },
  {
   "cell_type": "code",
   "execution_count": 9,
   "source": [
    "from typing import Dict,Tuple"
   ],
   "outputs": [],
   "metadata": {}
  },
  {
   "cell_type": "code",
   "execution_count": 5,
   "source": [
    "t=\"/Users/adebayobraimah/Desktop/projects/fmri_preproc/test/test.1/sub-194/run-01\""
   ],
   "outputs": [],
   "metadata": {}
  },
  {
   "cell_type": "code",
   "execution_count": 10,
   "source": [
    "src_space='fmap'\n",
    "ref_space='struct'\n",
    "\n",
    "fm2st_reg: MRreg = MRreg(outdir=t)\n",
    "tt: Dict[str,str] = fm2st_reg.outputs(src_space=src_space, ref_space=ref_space)\n",
    "fm2st_files: Tuple[str] = ('affine',\n",
    "                            'inv_affine',\n",
    "                            'resampled_image',\n",
    "                            'init_affine')"
   ],
   "outputs": [],
   "metadata": {}
  },
  {
   "cell_type": "code",
   "execution_count": 12,
   "source": [
    "fm2st_reg.check_exists(*fm2st_files)"
   ],
   "outputs": [
    {
     "output_type": "execute_result",
     "data": {
      "text/plain": [
       "True"
      ]
     },
     "metadata": {},
     "execution_count": 12
    }
   ],
   "metadata": {}
  },
  {
   "cell_type": "code",
   "execution_count": 2,
   "source": [
    "from typing import (\n",
    "    Dict,\n",
    "    Union,\n",
    "    List,\n",
    "    Set\n",
    ")\n",
    "from collections import OrderedDict"
   ],
   "outputs": [],
   "metadata": {}
  },
  {
   "cell_type": "code",
   "execution_count": 7,
   "source": [
    "age = 44\n",
    "standard_age = 40"
   ],
   "outputs": [],
   "metadata": {}
  },
  {
   "cell_type": "code",
   "execution_count": 3,
   "source": [
    "template_ages = [ 'neo', 1 ,2 , 21, 40, 41, 42, 43, 44]"
   ],
   "outputs": [],
   "metadata": {}
  },
  {
   "cell_type": "code",
   "execution_count": 8,
   "source": [
    "# Fill dictionary\n",
    "age_dict: OrderedDict = OrderedDict()\n",
    "\n",
    "for template_age in template_ages:\n",
    "    if (template_age == 'neo') or (template_age == 'neonate'):\n",
    "        template_source: str = f'UNCAAL-{template_age}'\n",
    "        template_space: str = f'UNCAAL-{template_age}'\n",
    "        temp_age: Union[int,str] = template_age\n",
    "        std_age: Union[int,str] = template_age\n",
    "    elif (template_age == 1) or (template_age == 2):\n",
    "        template_source: str = f'UNCAAL-{template_age}yrs'\n",
    "        template_space: str = f'UNCAAL-{template_age}yrs'\n",
    "        temp_age: Union[int,str] = template_age\n",
    "        std_age: Union[int,str] = template_age\n",
    "    elif template_age == age:\n",
    "        template_source: str = f'template-{template_age}wks'\n",
    "        template_space: str = 'standard'\n",
    "        temp_age: Union[int,str] = template_age\n",
    "        std_age: Union[int,str] = standard_age\n",
    "    else:\n",
    "        template_source: str = f'template-{template_age}wks'\n",
    "        template_space: str = f'template-{template_age}wks'\n",
    "        temp_age: Union[int,str] = template_age\n",
    "        std_age: Union[int,str] = template_age\n",
    "    \n",
    "    tmp_dict: Dict[str,str] = {\n",
    "        template_age: {\n",
    "            \"template_source\": template_source,\n",
    "            \"template_space\": template_space,\n",
    "            \"template_age\": temp_age,\n",
    "            \"standard_age\": std_age,\n",
    "        }\n",
    "    }\n",
    "\n",
    "    age_dict.update(**tmp_dict)"
   ],
   "outputs": [],
   "metadata": {}
  },
  {
   "cell_type": "code",
   "execution_count": 10,
   "source": [
    "**age_dict"
   ],
   "outputs": [
    {
     "output_type": "error",
     "ename": "SyntaxError",
     "evalue": "invalid syntax (<ipython-input-10-c0ca880deb12>, line 1)",
     "traceback": [
      "\u001b[0;36m  File \u001b[0;32m\"<ipython-input-10-c0ca880deb12>\"\u001b[0;36m, line \u001b[0;32m1\u001b[0m\n\u001b[0;31m    **age_dict\u001b[0m\n\u001b[0m    ^\u001b[0m\n\u001b[0;31mSyntaxError\u001b[0m\u001b[0;31m:\u001b[0m invalid syntax\n"
     ]
    }
   ],
   "metadata": {}
  },
  {
   "cell_type": "code",
   "execution_count": 15,
   "source": [
    "def _pr(**kwargs):\n",
    "    for k,v in kwargs.items():\n",
    "        print(f\"{k}={v}\")"
   ],
   "outputs": [],
   "metadata": {}
  },
  {
   "cell_type": "code",
   "execution_count": 16,
   "source": [
    "_pr(**age_dict.get('neo'))"
   ],
   "outputs": [
    {
     "output_type": "stream",
     "name": "stdout",
     "text": [
      "template_source=UNCAAL-neo\n",
      "template_space=UNCAAL-neo\n",
      "template_age=neo\n",
      "standard_age=neo\n"
     ]
    }
   ],
   "metadata": {}
  },
  {
   "cell_type": "code",
   "execution_count": null,
   "source": [],
   "outputs": [],
   "metadata": {}
  }
 ],
 "metadata": {
  "kernelspec": {
   "name": "python3",
   "display_name": "Python 3.8.10 64-bit ('base': conda)"
  },
  "language_info": {
   "codemirror_mode": {
    "name": "ipython",
    "version": 3
   },
   "file_extension": ".py",
   "mimetype": "text/x-python",
   "name": "python",
   "nbconvert_exporter": "python",
   "pygments_lexer": "ipython3",
   "version": "3.8.10"
  },
  "interpreter": {
   "hash": "a0afd39b322e8f65b39096d63bb597abf283a7f58195bb577f9b5a76e499c911"
  }
 },
 "nbformat": 4,
 "nbformat_minor": 5
}